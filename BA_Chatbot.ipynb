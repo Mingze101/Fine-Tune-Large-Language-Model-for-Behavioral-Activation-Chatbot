{
 "cells": [
  {
   "cell_type": "markdown",
   "id": "cfddaa805678f63c",
   "metadata": {
    "collapsed": false
   },
   "source": [
    "# Fine-Tune Large Language Model for Behavioral Activation Chatbot"
   ]
  },
  {
   "cell_type": "markdown",
   "id": "d8df3a326ab242bf",
   "metadata": {
    "collapsed": false
   },
   "source": [
    "## 1.Research Question\n",
    "Behavioral Activation is a therapy method that helps reduce symptoms of depression and mood disorders by promoting involvement in rewarding activities. Recently, Large Language Models (LLMs) like GPT have introduced more intelligent chatbot capabilities. \n",
    "\n",
    "However, these LLMs are generalized for a wide range of conversations and aren't tailored specifically for tasks like Behavioral Activation. The challenge is to adapt these advanced LLMs to effectively assist in Behavioral Activation through chatbot interactions.\n",
    "\n",
    "How could we develop a chatbot that bridge the gap between LLMs' general capabilities and the specific requirements of behavioral activation in a chatbot context?\n",
    "\n",
    "We pick the Chatgpt as our LLM and the Dataset was provided by Florian Onur Kuhlmeier and Sven Scheu.\n",
    "We start with data preprocessing."
   ]
  },
  {
   "cell_type": "markdown",
   "id": "123db64237965f90",
   "metadata": {
    "collapsed": false
   },
   "source": [
    "## 2.Data Preprocessing for Fine Tuning\n",
    "•\tid: this is the idea of the message (one id per row) -> ignore\n",
    "•\tconversation_id: an ID that signals which conversation the message belongs to.\n",
    "•\tflow_id: this is the id of the therapy session (behavioral activation was made up of three sessions / flows: verhaltenraktivierung-1, verhaltenraktivierung-2, verhaltenraktivierung-3). \n",
    "•\tStep_id: every flow consisted of multiple steps. You can ignore this column.\n",
    "•\tDirection: SEND (by chatbot) vs. RECEIVE (by user)\n",
    "•\tPayload: this is the message content \n",
    "•\tContent_type: which type of content the message has (image, text, question etc.)\n",
    "•\tmessage_order: usable to create the order of the messages (best to check with created_at)\n",
    "•\tcreated_at: date and time of the message -> best column to extract the order of the messages\n",
    "•\tinteraction_order -> ignore"
   ]
  },
  {
   "cell_type": "code",
   "execution_count": 1,
   "id": "initial_id",
   "metadata": {
    "collapsed": true,
    "jupyter": {
     "outputs_hidden": true
    },
    "ExecuteTime": {
     "end_time": "2024-01-02T22:06:49.743775100Z",
     "start_time": "2024-01-02T22:06:48.458133700Z"
    }
   },
   "outputs": [],
   "source": [
    "path = r\"C:\\Users\\Li\\Desktop\\Engineering Seminar Human-Centered Systems\\data\\verhaltensaktivierung.parquet.gzip\"\n",
    "\n",
    "import pandas as pd\n",
    "\n",
    "df = pd.read_parquet(path)"
   ]
  },
  {
   "cell_type": "markdown",
   "id": "8dd28b346eadfab5",
   "metadata": {
    "collapsed": false
   },
   "source": [
    "### First image of Dataset"
   ]
  },
  {
   "cell_type": "code",
   "execution_count": 2,
   "id": "479ba6d73264abbc",
   "metadata": {
    "collapsed": false,
    "ExecuteTime": {
     "end_time": "2024-01-02T22:06:50.026479900Z",
     "start_time": "2024-01-02T22:06:49.462841300Z"
    }
   },
   "outputs": [
    {
     "name": "stdout",
     "output_type": "stream",
     "text": [
      "                                     id                       conversation_id  \\\n",
      "0  12d29e68-e636-4fe7-abb8-3d1e3dc661c3  3cc89a19-5742-4f66-a93a-86cad116bea1   \n",
      "1  cbee3172-53b5-4e3f-8bda-9e6a34d5280f  3cc89a19-5742-4f66-a93a-86cad116bea1   \n",
      "2  2bfa2b69-d75d-4e43-8ded-29a7998a101b  3cc89a19-5742-4f66-a93a-86cad116bea1   \n",
      "3  5e019e59-9c04-4e66-a3dc-cd28875b365c  3cc89a19-5742-4f66-a93a-86cad116bea1   \n",
      "4  dc3518c7-f7b0-408d-890b-fc94c23d7af7  3cc89a19-5742-4f66-a93a-86cad116bea1   \n",
      "\n",
      "                   flow_id step_id direction  \\\n",
      "0  verhaltensaktivierung-1   start      SEND   \n",
      "1  verhaltensaktivierung-1   start   RECEIVE   \n",
      "2  verhaltensaktivierung-1   start   RECEIVE   \n",
      "3  verhaltensaktivierung-1   start      SEND   \n",
      "4  verhaltensaktivierung-1   start      SEND   \n",
      "\n",
      "                                             payload  content_type  \\\n",
      "0  {\"content\":{\"url\":\"https://media0.giphy.com/me...         image   \n",
      "1  {\"content\":{\"flow_id\":\"verhaltensaktivierung-1...  flow_trigger   \n",
      "2  {\"content\":{\"payload\":\"Hmm...muss das sein?\"},...       payload   \n",
      "3  {\"content\":{\"text\":\"Um es kurz zu machen: Ich ...          text   \n",
      "4  {\"content\":{\"buttons\":[{\"content\":{\"accepts\":[...      question   \n",
      "\n",
      "   message_order  interaction_order                 created_at  \n",
      "0              2                  0 2023-06-11 10:56:48.985350  \n",
      "1              0                  0 2023-06-11 10:56:48.985350  \n",
      "2              0                  0 2023-06-11 10:57:06.317682  \n",
      "3              2                  0 2023-06-11 10:57:06.317682  \n",
      "4              5                  0 2023-06-11 10:57:06.317682  \n"
     ]
    }
   ],
   "source": [
    "print(df.head())"
   ]
  },
  {
   "cell_type": "markdown",
   "id": "d5cac7eabb897fb6",
   "metadata": {
    "collapsed": false
   },
   "source": []
  },
  {
   "cell_type": "code",
   "execution_count": 3,
   "id": "4966cb216bfe6e29",
   "metadata": {
    "collapsed": false,
    "ExecuteTime": {
     "end_time": "2024-01-02T22:06:50.253699900Z",
     "start_time": "2024-01-02T22:06:50.010352100Z"
    }
   },
   "outputs": [
    {
     "name": "stdout",
     "output_type": "stream",
     "text": [
      "column names are  Index(['id', 'conversation_id', 'flow_id', 'step_id', 'direction', 'payload',\n",
      "       'content_type', 'message_order', 'interaction_order', 'created_at'],\n",
      "      dtype='object')\n"
     ]
    }
   ],
   "source": [
    "print(\"column names are \",df.columns)"
   ]
  },
  {
   "cell_type": "code",
   "execution_count": 4,
   "id": "74cfb1e8903d5e97",
   "metadata": {
    "collapsed": false,
    "ExecuteTime": {
     "end_time": "2024-01-02T22:06:50.355356900Z",
     "start_time": "2024-01-02T22:06:50.241583500Z"
    }
   },
   "outputs": [
    {
     "name": "stdout",
     "output_type": "stream",
     "text": [
      "column numbers are id                   20137\n",
      "conversation_id      20137\n",
      "flow_id              20137\n",
      "step_id              20137\n",
      "direction            20137\n",
      "payload              20137\n",
      "content_type         20137\n",
      "message_order        20137\n",
      "interaction_order    20137\n",
      "created_at           20137\n",
      "dtype: int64\n"
     ]
    }
   ],
   "source": [
    "print(\"column numbers are\",df.count())"
   ]
  },
  {
   "cell_type": "markdown",
   "id": "2feaab143a47d847",
   "metadata": {
    "collapsed": false
   },
   "source": [
    "### Transfer the dataset as a csv file \n",
    "we can check the dataset file directly"
   ]
  },
  {
   "cell_type": "code",
   "execution_count": 5,
   "id": "d7236fd15632a68c",
   "metadata": {
    "collapsed": false,
    "ExecuteTime": {
     "end_time": "2024-01-02T22:06:50.579816500Z",
     "start_time": "2024-01-02T22:06:50.320501500Z"
    }
   },
   "outputs": [],
   "source": [
    "# Specify the file path and name\n",
    "file_path = r\"C:\\Users\\Li\\Desktop\\Engineering Seminar Human-Centered Systems\\data\\verhaltensaktivierung.parquet.csv\"\n",
    "# Write DataFrame to CSV with UTF-8 encoding\n",
    "df.to_csv(file_path, index=False, encoding='utf-8')"
   ]
  },
  {
   "cell_type": "markdown",
   "id": "2c92bc96aad37d66",
   "metadata": {
    "collapsed": false
   },
   "source": [
    "### Filter\n",
    "This Python code uses pandas to filter a DataFrame df in two steps:\n",
    "1. Select rows where flow_id equals 'verhaltensaktivierung-2', because it contains the most important data that we want to use in the fine tuning.\n",
    "2. Further narrow down to rows where content_type is either 'text', 'question', or 'payload', as they are key components of prompt construction."
   ]
  },
  {
   "cell_type": "code",
   "execution_count": 6,
   "id": "7a1c35233cc8d85a",
   "metadata": {
    "collapsed": false,
    "ExecuteTime": {
     "end_time": "2024-01-02T22:06:50.627203700Z",
     "start_time": "2024-01-02T22:06:50.537371700Z"
    }
   },
   "outputs": [],
   "source": [
    "filtered_df = df[df['flow_id'] == 'verhaltensaktivierung-2']\n",
    "\n",
    "filtered_df = filtered_df[filtered_df['content_type'].isin(['text', 'question', 'payload'])]\n"
   ]
  },
  {
   "cell_type": "code",
   "execution_count": 7,
   "id": "e1bccbae00cd07f9",
   "metadata": {
    "collapsed": false,
    "ExecuteTime": {
     "end_time": "2024-01-02T22:06:50.722208Z",
     "start_time": "2024-01-02T22:06:50.552806400Z"
    }
   },
   "outputs": [
    {
     "data": {
      "text/plain": "                                      id  \\\n59  b416224d-57f9-46b3-9fe2-8a4c3d5245c1   \n61  93988c30-1843-40f8-b6bf-790689a17b1e   \n63  89fa05bc-116d-4471-a3de-a2091026f7cd   \n64  a478b7d3-ab3d-484b-94b3-18d379838215   \n65  b2625dd7-2a92-4b5a-9c8f-576c79ceb85d   \n\n                         conversation_id                  flow_id step_id  \\\n59  fb0749b3-3391-4f35-9ad6-958a1b9a931c  verhaltensaktivierung-2   start   \n61  fb0749b3-3391-4f35-9ad6-958a1b9a931c  verhaltensaktivierung-2   start   \n63  fb0749b3-3391-4f35-9ad6-958a1b9a931c  verhaltensaktivierung-2   start   \n64  fb0749b3-3391-4f35-9ad6-958a1b9a931c  verhaltensaktivierung-2   start   \n65  fb0749b3-3391-4f35-9ad6-958a1b9a931c  verhaltensaktivierung-2   start   \n\n   direction                                            payload content_type  \\\n59      SEND  {\"content\":{\"text\":\"Lass uns mal versuchen, ei...         text   \n61   RECEIVE  {\"content\":{\"payload\":\"👍\"},\"content_type\":\"pay...      payload   \n63   RECEIVE  {\"content\":{\"payload\":\"Geht eigentlich\"},\"cont...      payload   \n64      SEND  {\"content\":{\"text\":\"Aber da bist du nicht alle...         text   \n65      SEND  {\"content\":{\"text\":\"Aber: Positive Aktivitäten...         text   \n\n    message_order  interaction_order                 created_at  \n59              2                  0 2023-06-11 18:32:24.503132  \n61              0                  0 2023-06-11 18:32:35.093439  \n63              0                  0 2023-06-11 18:32:54.221356  \n64              2                  0 2023-06-11 18:32:54.221356  \n65              5                  0 2023-06-11 18:32:54.221356  ",
      "text/html": "<div>\n<style scoped>\n    .dataframe tbody tr th:only-of-type {\n        vertical-align: middle;\n    }\n\n    .dataframe tbody tr th {\n        vertical-align: top;\n    }\n\n    .dataframe thead th {\n        text-align: right;\n    }\n</style>\n<table border=\"1\" class=\"dataframe\">\n  <thead>\n    <tr style=\"text-align: right;\">\n      <th></th>\n      <th>id</th>\n      <th>conversation_id</th>\n      <th>flow_id</th>\n      <th>step_id</th>\n      <th>direction</th>\n      <th>payload</th>\n      <th>content_type</th>\n      <th>message_order</th>\n      <th>interaction_order</th>\n      <th>created_at</th>\n    </tr>\n  </thead>\n  <tbody>\n    <tr>\n      <th>59</th>\n      <td>b416224d-57f9-46b3-9fe2-8a4c3d5245c1</td>\n      <td>fb0749b3-3391-4f35-9ad6-958a1b9a931c</td>\n      <td>verhaltensaktivierung-2</td>\n      <td>start</td>\n      <td>SEND</td>\n      <td>{\"content\":{\"text\":\"Lass uns mal versuchen, ei...</td>\n      <td>text</td>\n      <td>2</td>\n      <td>0</td>\n      <td>2023-06-11 18:32:24.503132</td>\n    </tr>\n    <tr>\n      <th>61</th>\n      <td>93988c30-1843-40f8-b6bf-790689a17b1e</td>\n      <td>fb0749b3-3391-4f35-9ad6-958a1b9a931c</td>\n      <td>verhaltensaktivierung-2</td>\n      <td>start</td>\n      <td>RECEIVE</td>\n      <td>{\"content\":{\"payload\":\"👍\"},\"content_type\":\"pay...</td>\n      <td>payload</td>\n      <td>0</td>\n      <td>0</td>\n      <td>2023-06-11 18:32:35.093439</td>\n    </tr>\n    <tr>\n      <th>63</th>\n      <td>89fa05bc-116d-4471-a3de-a2091026f7cd</td>\n      <td>fb0749b3-3391-4f35-9ad6-958a1b9a931c</td>\n      <td>verhaltensaktivierung-2</td>\n      <td>start</td>\n      <td>RECEIVE</td>\n      <td>{\"content\":{\"payload\":\"Geht eigentlich\"},\"cont...</td>\n      <td>payload</td>\n      <td>0</td>\n      <td>0</td>\n      <td>2023-06-11 18:32:54.221356</td>\n    </tr>\n    <tr>\n      <th>64</th>\n      <td>a478b7d3-ab3d-484b-94b3-18d379838215</td>\n      <td>fb0749b3-3391-4f35-9ad6-958a1b9a931c</td>\n      <td>verhaltensaktivierung-2</td>\n      <td>start</td>\n      <td>SEND</td>\n      <td>{\"content\":{\"text\":\"Aber da bist du nicht alle...</td>\n      <td>text</td>\n      <td>2</td>\n      <td>0</td>\n      <td>2023-06-11 18:32:54.221356</td>\n    </tr>\n    <tr>\n      <th>65</th>\n      <td>b2625dd7-2a92-4b5a-9c8f-576c79ceb85d</td>\n      <td>fb0749b3-3391-4f35-9ad6-958a1b9a931c</td>\n      <td>verhaltensaktivierung-2</td>\n      <td>start</td>\n      <td>SEND</td>\n      <td>{\"content\":{\"text\":\"Aber: Positive Aktivitäten...</td>\n      <td>text</td>\n      <td>5</td>\n      <td>0</td>\n      <td>2023-06-11 18:32:54.221356</td>\n    </tr>\n  </tbody>\n</table>\n</div>"
     },
     "execution_count": 7,
     "metadata": {},
     "output_type": "execute_result"
    }
   ],
   "source": [
    "filtered_df.head()"
   ]
  },
  {
   "cell_type": "markdown",
   "id": "18625779408a67ea",
   "metadata": {
    "collapsed": false
   },
   "source": [
    "### Selected Dataset Generation\n",
    "All downstream tasks based on this dataset: sorted_df."
   ]
  },
  {
   "cell_type": "code",
   "execution_count": 8,
   "id": "c6d4a9c7b96a31fb",
   "metadata": {
    "collapsed": false,
    "ExecuteTime": {
     "end_time": "2024-01-02T22:06:50.734827600Z",
     "start_time": "2024-01-02T22:06:50.590468100Z"
    }
   },
   "outputs": [
    {
     "data": {
      "text/plain": "                                      id  \\\n59  b416224d-57f9-46b3-9fe2-8a4c3d5245c1   \n61  93988c30-1843-40f8-b6bf-790689a17b1e   \n68  362cd471-2cb8-4a8b-95cc-48c60cbf971b   \n63  89fa05bc-116d-4471-a3de-a2091026f7cd   \n64  a478b7d3-ab3d-484b-94b3-18d379838215   \n\n                         conversation_id                  flow_id step_id  \\\n59  fb0749b3-3391-4f35-9ad6-958a1b9a931c  verhaltensaktivierung-2   start   \n61  fb0749b3-3391-4f35-9ad6-958a1b9a931c  verhaltensaktivierung-2   start   \n68  fb0749b3-3391-4f35-9ad6-958a1b9a931c  verhaltensaktivierung-2   start   \n63  fb0749b3-3391-4f35-9ad6-958a1b9a931c  verhaltensaktivierung-2   start   \n64  fb0749b3-3391-4f35-9ad6-958a1b9a931c  verhaltensaktivierung-2   start   \n\n   direction                                            payload content_type  \\\n59      SEND  {\"content\":{\"text\":\"Lass uns mal versuchen, ei...         text   \n61   RECEIVE  {\"content\":{\"payload\":\"👍\"},\"content_type\":\"pay...      payload   \n68      SEND  {\"content\":{\"buttons\":[{\"content\":{\"accepts\":[...     question   \n63   RECEIVE  {\"content\":{\"payload\":\"Geht eigentlich\"},\"cont...      payload   \n64      SEND  {\"content\":{\"text\":\"Aber da bist du nicht alle...         text   \n\n    message_order  interaction_order                 created_at  \n59              2                  0 2023-06-11 18:32:24.503132  \n61              0                  0 2023-06-11 18:32:35.093439  \n68              2                  0 2023-06-11 18:32:35.093439  \n63              0                  0 2023-06-11 18:32:54.221356  \n64              2                  0 2023-06-11 18:32:54.221356  ",
      "text/html": "<div>\n<style scoped>\n    .dataframe tbody tr th:only-of-type {\n        vertical-align: middle;\n    }\n\n    .dataframe tbody tr th {\n        vertical-align: top;\n    }\n\n    .dataframe thead th {\n        text-align: right;\n    }\n</style>\n<table border=\"1\" class=\"dataframe\">\n  <thead>\n    <tr style=\"text-align: right;\">\n      <th></th>\n      <th>id</th>\n      <th>conversation_id</th>\n      <th>flow_id</th>\n      <th>step_id</th>\n      <th>direction</th>\n      <th>payload</th>\n      <th>content_type</th>\n      <th>message_order</th>\n      <th>interaction_order</th>\n      <th>created_at</th>\n    </tr>\n  </thead>\n  <tbody>\n    <tr>\n      <th>59</th>\n      <td>b416224d-57f9-46b3-9fe2-8a4c3d5245c1</td>\n      <td>fb0749b3-3391-4f35-9ad6-958a1b9a931c</td>\n      <td>verhaltensaktivierung-2</td>\n      <td>start</td>\n      <td>SEND</td>\n      <td>{\"content\":{\"text\":\"Lass uns mal versuchen, ei...</td>\n      <td>text</td>\n      <td>2</td>\n      <td>0</td>\n      <td>2023-06-11 18:32:24.503132</td>\n    </tr>\n    <tr>\n      <th>61</th>\n      <td>93988c30-1843-40f8-b6bf-790689a17b1e</td>\n      <td>fb0749b3-3391-4f35-9ad6-958a1b9a931c</td>\n      <td>verhaltensaktivierung-2</td>\n      <td>start</td>\n      <td>RECEIVE</td>\n      <td>{\"content\":{\"payload\":\"👍\"},\"content_type\":\"pay...</td>\n      <td>payload</td>\n      <td>0</td>\n      <td>0</td>\n      <td>2023-06-11 18:32:35.093439</td>\n    </tr>\n    <tr>\n      <th>68</th>\n      <td>362cd471-2cb8-4a8b-95cc-48c60cbf971b</td>\n      <td>fb0749b3-3391-4f35-9ad6-958a1b9a931c</td>\n      <td>verhaltensaktivierung-2</td>\n      <td>start</td>\n      <td>SEND</td>\n      <td>{\"content\":{\"buttons\":[{\"content\":{\"accepts\":[...</td>\n      <td>question</td>\n      <td>2</td>\n      <td>0</td>\n      <td>2023-06-11 18:32:35.093439</td>\n    </tr>\n    <tr>\n      <th>63</th>\n      <td>89fa05bc-116d-4471-a3de-a2091026f7cd</td>\n      <td>fb0749b3-3391-4f35-9ad6-958a1b9a931c</td>\n      <td>verhaltensaktivierung-2</td>\n      <td>start</td>\n      <td>RECEIVE</td>\n      <td>{\"content\":{\"payload\":\"Geht eigentlich\"},\"cont...</td>\n      <td>payload</td>\n      <td>0</td>\n      <td>0</td>\n      <td>2023-06-11 18:32:54.221356</td>\n    </tr>\n    <tr>\n      <th>64</th>\n      <td>a478b7d3-ab3d-484b-94b3-18d379838215</td>\n      <td>fb0749b3-3391-4f35-9ad6-958a1b9a931c</td>\n      <td>verhaltensaktivierung-2</td>\n      <td>start</td>\n      <td>SEND</td>\n      <td>{\"content\":{\"text\":\"Aber da bist du nicht alle...</td>\n      <td>text</td>\n      <td>2</td>\n      <td>0</td>\n      <td>2023-06-11 18:32:54.221356</td>\n    </tr>\n  </tbody>\n</table>\n</div>"
     },
     "execution_count": 8,
     "metadata": {},
     "output_type": "execute_result"
    }
   ],
   "source": [
    "filtered_df['created_at'] = pd.to_datetime(filtered_df['created_at'])\n",
    "\n",
    "sorted_df = filtered_df.sort_values(by='created_at')\n",
    "sorted_df.head()"
   ]
  },
  {
   "cell_type": "code",
   "execution_count": 9,
   "id": "136dc66781edeac1",
   "metadata": {
    "collapsed": false,
    "ExecuteTime": {
     "end_time": "2024-01-02T22:06:50.880070900Z",
     "start_time": "2024-01-02T22:06:50.722718600Z"
    }
   },
   "outputs": [
    {
     "data": {
      "text/plain": "59    {\"content\":{\"text\":\"Lass uns mal versuchen, ei...\n61    {\"content\":{\"payload\":\"👍\"},\"content_type\":\"pay...\n68    {\"content\":{\"buttons\":[{\"content\":{\"accepts\":[...\n63    {\"content\":{\"payload\":\"Geht eigentlich\"},\"cont...\n64    {\"content\":{\"text\":\"Aber da bist du nicht alle...\nName: payload, dtype: object"
     },
     "execution_count": 9,
     "metadata": {},
     "output_type": "execute_result"
    }
   ],
   "source": [
    "sorted_df.payload.head()"
   ]
  },
  {
   "cell_type": "code",
   "execution_count": 10,
   "id": "5fffd5f41900f7f2",
   "metadata": {
    "collapsed": false,
    "ExecuteTime": {
     "end_time": "2024-01-02T22:06:51.012784800Z",
     "start_time": "2024-01-02T22:06:50.816928400Z"
    }
   },
   "outputs": [
    {
     "name": "stdout",
     "output_type": "stream",
     "text": [
      "sorted_df count:  8991\n"
     ]
    }
   ],
   "source": [
    "print(\"sorted_df count: \", len(sorted_df),)"
   ]
  },
  {
   "cell_type": "code",
   "execution_count": 11,
   "id": "e2d2882f92663f12",
   "metadata": {
    "collapsed": false,
    "ExecuteTime": {
     "end_time": "2024-01-02T22:06:51.197528900Z",
     "start_time": "2024-01-02T22:06:51.013781200Z"
    }
   },
   "outputs": [
    {
     "name": "stdout",
     "output_type": "stream",
     "text": [
      "unique conversation_id 119\n"
     ]
    }
   ],
   "source": [
    "print(\"unique conversation_id\",len(sorted_df['conversation_id'].unique()))"
   ]
  },
  {
   "cell_type": "markdown",
   "id": "a649a5181029a117",
   "metadata": {
    "collapsed": false
   },
   "source": [
    "### JSONL Transformation\n",
    "Transfer the selected dataset to extract conversations into a format that can be used by the LLM as OpenAI has provided a JSONL example:\n",
    "{\"messages\": [{\"role\": \"system\", \"content\": \"Marv is a factual chatbot that is also sarcastic.\"}, {\"role\": \"user\", \"content\": \"What's the capital of France?\"}, {\"role\": \"assistant\", \"content\": \"Paris, as if everyone doesn't know that already.\"}]}\n",
    "{\"messages\": [{\"role\": \"system\", \"content\": \"Marv is a factual chatbot that is also sarcastic.\"}, {\"role\": \"user\", \"content\": \"Who wrote 'Romeo and Juliet'?\"}, {\"role\": \"assistant\", \"content\": \"Oh, just some guy named William Shakespeare. Ever heard of him?\"}]}\n",
    "{\"messages\": [{\"role\": \"system\", \"content\": \"Marv is a factual chatbot that is also sarcastic.\"}, {\"role\": \"user\", \"content\": \"How far is the Moon from Earth?\"}, {\"role\": \"assistant\", \"content\": \"Around 384,400 kilometers. Give or take a few, like that really matters.\"}]}\n",
    "Source: https://platform.openai.com/docs/guides/fine-tuning/preparing-your-dataset"
   ]
  },
  {
   "cell_type": "code",
   "execution_count": 12,
   "id": "d83f5fa3fd8c8a27",
   "metadata": {
    "collapsed": false,
    "ExecuteTime": {
     "end_time": "2024-01-02T22:06:51.438478200Z",
     "start_time": "2024-01-02T22:06:51.178468400Z"
    }
   },
   "outputs": [
    {
     "data": {
      "text/plain": "'C:\\\\Users\\\\Li\\\\Desktop\\\\Engineering Seminar Human-Centered Systems\\\\data\\\\converted_messages.jsonl'"
     },
     "execution_count": 12,
     "metadata": {},
     "output_type": "execute_result"
    }
   ],
   "source": [
    "import json\n",
    "\n",
    "role_mapping = {'SEND': 'assistant', 'RECEIVE': 'user'}\n",
    "sorted_df['role'] = sorted_df['direction'].map(role_mapping)\n",
    "\n",
    "# Function to extract content from payload\n",
    "def extract_content(payload):\n",
    "    try:\n",
    "        payload_json = json.loads(payload)\n",
    "        if 'content' in payload_json and 'title' in payload_json['content']:\n",
    "            return payload_json['content']['title']\n",
    "        if 'payload' in payload_json['content']:\n",
    "            return payload_json['content']['payload']\n",
    "        elif 'text' in payload_json['content']:\n",
    "            return payload_json['content']['text']\n",
    "    except json.JSONDecodeError:\n",
    "        return payload\n",
    "    return '内容不可提取'\n",
    "\n",
    "#Apply this function to the payload column\n",
    "sorted_df['content'] = sorted_df['payload'].apply(extract_content)\n",
    "\n",
    "# Function for converting a single conversation to JSON\n",
    "def conversation_to_json(group):\n",
    "    # 添加固定的系统消息\n",
    "    system_message = {\"role\": \"system\", \"content\": \"You are a helpful chatbot that based on Behavioural activation treatment.\"}\n",
    "    messages = [system_message] + group[['role', 'content']].to_dict(orient='records')\n",
    "    return {'messages': messages}\n",
    "\n",
    "# Group by conversation_id and transform each group\n",
    "conversations_json = sorted_df.groupby('conversation_id').apply(conversation_to_json)\n",
    "\n",
    "#Specify the path to save the JSONL file\n",
    "output_file_path = r\"C:\\Users\\Li\\Desktop\\Engineering Seminar Human-Centered Systems\\data\\converted_messages.jsonl\"\n",
    "\n",
    "# Write each conversation to a JSONL file\n",
    "with open(output_file_path, 'w', encoding='utf-8') as file:\n",
    "    for conversation in conversations_json:\n",
    "        json.dump(conversation, file, ensure_ascii=False)\n",
    "        file.write('\\n')\n",
    "\n",
    "output_file_path\n"
   ]
  },
  {
   "cell_type": "markdown",
   "source": [
    "### Generation English version by translater: converted_messages_en.jsonl"
   ],
   "metadata": {
    "collapsed": false
   },
   "id": "1575d3ecbaee9d1e"
  },
  {
   "cell_type": "markdown",
   "id": "875f9612989008d3",
   "metadata": {
    "collapsed": false
   },
   "source": [
    "### Data analysis for chat model fine-tuning\n",
    "Supported by Data preparation and analysis for chat model fine-tuning: https://cookbook.openai.com/examples/chat_finetuning_data_prep"
   ]
  },
  {
   "cell_type": "code",
   "execution_count": 13,
   "id": "f3a4ccc04920f3da",
   "metadata": {
    "collapsed": false,
    "ExecuteTime": {
     "end_time": "2024-01-02T22:06:51.517819300Z",
     "start_time": "2024-01-02T22:06:51.392847500Z"
    }
   },
   "outputs": [],
   "source": [
    "import tiktoken # for token counting\n",
    "import numpy as np\n",
    "from collections import defaultdict"
   ]
  },
  {
   "cell_type": "code",
   "execution_count": 14,
   "id": "421b0cc4d02cb0a6",
   "metadata": {
    "collapsed": false,
    "ExecuteTime": {
     "end_time": "2024-01-02T22:06:51.590401Z",
     "start_time": "2024-01-02T22:06:51.425903100Z"
    }
   },
   "outputs": [
    {
     "name": "stdout",
     "output_type": "stream",
     "text": [
      "Num examples: 119\n",
      "First example:\n",
      "{'role': 'system', 'content': 'You are a helpful chatbot that based on Behavioural activation treatment.'}\n",
      "{'role': 'assistant', 'content': 'Lass uns mal versuchen, ein paar Aktivitäten zu finden, die dir Spaß machen! 🙌'}\n",
      "{'role': 'user', 'content': '👍'}\n",
      "{'role': 'assistant', 'content': 'Fällt es dir schwer, eine positive Aktivität in deinen Alltag einzubauen?'}\n",
      "{'role': 'user', 'content': 'Geht eigentlich'}\n",
      "{'role': 'assistant', 'content': 'Aber da bist du nicht allein! Viele haben genug für die Schule, Universität oder Arbeit 🧑💼 zu tun und nur wenig Freizeit.'}\n",
      "{'role': 'assistant', 'content': 'Aber: Positive Aktivitäten müssen keine große Sache sein!'}\n",
      "{'role': 'assistant', 'content': 'Manchmal kann es schon helfen, wenn du duschen gehst und dich danach frisch fühlst. 🚿'}\n",
      "{'role': 'assistant', 'content': 'Auch solche kleinen Aktivitäten können helfen, deine Stimmung zu verbessern und auf bessere Gedanken zu kommen.'}\n",
      "{'role': 'user', 'content': 'Ich verstehe. 👌'}\n",
      "{'role': 'assistant', 'content': 'Bestimmt kennst du ein paar Aktivitäten, bei denen du sagst, ...'}\n",
      "{'role': 'assistant', 'content': '... das macht mir Spaß. 🎈 Dabei habe ich gute Laune. Dabei kann ich mich entspannen. 💆'}\n",
      "{'role': 'assistant', 'content': 'Fällt dir was ein oder soll ich dir Beispiele zeigen?'}\n",
      "{'role': 'assistant', 'content': 'Lass uns doch mal 3 Aktivitäten sammeln, die dir im Alltag Freude machen könnten. Okay?'}\n",
      "{'role': 'assistant', 'content': 'Was mach dir im Alltag Freude? Was ist die erste Aktivität, die dir einfällt?'}\n",
      "{'role': 'user', 'content': 'Ich weiß was, lass uns starten!'}\n",
      "{'role': 'assistant', 'content': 'Super! Dann los! 🚀'}\n",
      "{'role': 'user', 'content': 'Sport'}\n",
      "{'role': 'assistant', 'content': 'Danke. Und was ist die Zweite?'}\n",
      "{'role': 'user', 'content': 'Freunde treffen'}\n",
      "{'role': 'assistant', 'content': '👍 Hast du noch eine dritte Aktivität für mich?'}\n",
      "{'role': 'user', 'content': 'Kochen'}\n",
      "{'role': 'assistant', 'content': 'Wohoo! 🥳 Geschafft! Jetzt haben wir 3 Aktivitäten, die dir Freude machen.'}\n",
      "{'role': 'assistant', 'content': 'Denke daran: Nur wenn du etwas machst, dann wird es dir langsam besser gehen!'}\n",
      "{'role': 'assistant', 'content': 'Damit du die schönen Aktivitäten auch wirklich umsetzt, planen wir die jetzt einfach gemeinsam!'}\n",
      "{'role': 'assistant', 'content': 'Kennst du das auch von dir?'}\n",
      "{'role': 'assistant', 'content': 'Etwas zu planen ergibt Sinn, da viele junge Menschen gestresst sind.'}\n",
      "{'role': 'user', 'content': 'Okay 👍'}\n",
      "{'role': 'assistant', 'content': 'Denn du hast was, auf das du dich freuen kannst. 🎉'}\n",
      "{'role': 'user', 'content': 'Ja, das kenne ich'}\n",
      "{'role': 'assistant', 'content': 'Wenn du nämlich positive Aktivitäten planst, bist du gleich etwas entspannter!'}\n",
      "{'role': 'assistant', 'content': 'Pass dabei aber auf andere Termine auf. Die können wir ja nicht verändern. 📅'}\n",
      "{'role': 'assistant', 'content': 'An sehr stressigen Tagen können die schönen Aktivitäten auch kurz sein: So zwischen 30 Sekunden und 15 Minuten.'}\n",
      "{'role': 'user', 'content': '👌 Klingt gut.'}\n",
      "{'role': 'assistant', 'content': 'Lass uns das mal ausprobieren! Wir planen mal Aktivitäten, die dir Spaß machen!'}\n",
      "{'role': 'assistant', 'content': 'Du musst dir für die schönen Aktivitäten einen echten Termin machen, dann ist es gleich viel einfacher...'}\n",
      "{'role': 'assistant', 'content': 'Okay?'}\n",
      "{'role': 'assistant', 'content': 'Merke dir: Du musst wissen, 1. was du machen willst und 2. wann du es machen willst.'}\n",
      "{'role': 'user', 'content': 'Okay'}\n",
      "{'role': 'user', 'content': '👍'}\n",
      "{'role': 'assistant', 'content': 'Erinnere dich nochmal an die 3 Aktivitäten, die du vorhin genannt hast: 1. Sport, 2. Freunde treffen und 3. Kochen.'}\n",
      "{'role': 'assistant', 'content': 'Welche der 3 möchtest du am liebsten mit mir planen?'}\n",
      "{'role': 'assistant', 'content': 'Eine Aktivität davon würde ich gerne genau mit dir planen. Eine reicht erstmal.'}\n",
      "{'role': 'user', 'content': 'Sport'}\n",
      "{'role': 'assistant', 'content': 'Super! Jetzt wissen wir: WAS du machen willst.'}\n",
      "{'role': 'assistant', 'content': 'Dann lass uns schauen WANN!'}\n",
      "{'role': 'assistant', 'content': 'Wie viel Zeit ungefähr brauchst du für diese Aktivität? Falls du dafür irgendwo hinfahren musst, plane auch An- und Abfahrt ein!'}\n",
      "{'role': 'assistant', 'content': 'Okay, wie lange brauchst du?'}\n",
      "{'role': 'assistant', 'content': 'Wann passt es für dich? An welchem Tag und zu welcher Uhrzeit?'}\n",
      "{'role': 'assistant', 'content': 'An welchem Tag hast du denn ausreichend Zeit, dass du diese Aktivität machen kannst? 📅'}\n",
      "{'role': 'user', 'content': '2 h'}\n",
      "{'role': 'user', 'content': 'Dienstag 10:00'}\n",
      "{'role': 'assistant', 'content': 'Perfekt!'}\n",
      "{'role': 'assistant', 'content': 'Jetzt haben wir: 1. WAS du machen willst, 2. WANN du es machen willst.'}\n",
      "{'role': 'assistant', 'content': 'Eine Sache muss ich aber noch unbedingt von dir wissen! 🙄'}\n",
      "{'role': 'user', 'content': '👍😎'}\n",
      "{'role': 'user', 'content': 'Welche denn?'}\n",
      "{'role': 'assistant', 'content': 'Was könnte dich davon abhalten, die Aktivität zu machen? Also obwohl du es ja fest geplant hast!'}\n",
      "{'role': 'assistant', 'content': 'Oft hilft es, wenn du dir vorher überlegst, was dazwischen kommen könnte. Damit du vorbereitet bist, wenn das wirklich passiert.'}\n",
      "{'role': 'assistant', 'content': 'Und, was könnte bei dir dazwischen kommen?'}\n",
      "{'role': 'user', 'content': 'Nichts eigentlich wenn ich es mir fest vornehme'}\n",
      "{'role': 'assistant', 'content': 'Verstehe!'}\n",
      "{'role': 'assistant', 'content': 'Und wie kannst du verhindern, dass du von deiner Aktivität abgehalten wirst? 💡 Tipp: Erinnerungen im Kalender oder Unterstützung durch Freunde können auch helfen.'}\n",
      "{'role': 'assistant', 'content': 'Lass mich das noch mal zusammenfassen, okay?'}\n",
      "{'role': 'user', 'content': 'Ok'}\n",
      "{'role': 'assistant', 'content': 'Sehr gut! Jetzt haben wir schon mal einen Plan. 👍'}\n",
      "{'role': 'user', 'content': 'Gern!'}\n",
      "{'role': 'assistant', 'content': 'Wenn du etwas Schönes machen möchtest, gehst du so vor:'}\n",
      "{'role': 'assistant', 'content': '1. Überlege, WAS du machen willst! 2. Überlege, WANN du es machen willst! 3. Trage es dir als Termin in deinen Kalender ein!'}\n",
      "{'role': 'assistant', 'content': 'und'}\n",
      "{'role': 'assistant', 'content': '4. Überlege, was dich davon ABHALTEN könnte! 5. Und, was du DAGEGEN tun kannst.'}\n",
      "{'role': 'assistant', 'content': 'In diesen Schritten kannst du es ab jetzt immer angehen. Das hilft dir, die schönen Aktivitäten auch wirklich zu machen.'}\n",
      "{'role': 'assistant', 'content': 'Versuch in den nächsten Tagen mal, diese Methode anzuwenden. 🙏'}\n",
      "{'role': 'user', 'content': '👍'}\n",
      "{'role': 'assistant', 'content': 'Okay, das war doch schon mal sehr gut! Ich bin stolz auf dich! 🤩'}\n"
     ]
    }
   ],
   "source": [
    "data_path = r\"C:\\Users\\Li\\Desktop\\Engineering Seminar Human-Centered Systems\\data\\converted_messages_en.jsonl\" #converted_messages_en.jsonl\n",
    "\n",
    "# Load the dataset\n",
    "with open(data_path, 'r', encoding='utf-8') as f:\n",
    "    dataset = [json.loads(line) for line in f]\n",
    "\n",
    "# Initial dataset stats\n",
    "print(\"Num examples:\", len(dataset))\n",
    "print(\"First example:\")\n",
    "for message in dataset[0][\"messages\"]:\n",
    "    print(message)"
   ]
  },
  {
   "cell_type": "code",
   "execution_count": 15,
   "id": "b7bcab3e115275bd",
   "metadata": {
    "collapsed": false,
    "ExecuteTime": {
     "end_time": "2024-01-02T22:06:51.659798100Z",
     "start_time": "2024-01-02T22:06:51.461638800Z"
    }
   },
   "outputs": [
    {
     "name": "stdout",
     "output_type": "stream",
     "text": [
      "No errors found\n"
     ]
    }
   ],
   "source": [
    "# Format error checks\n",
    "format_errors = defaultdict(int)\n",
    "\n",
    "# Add a list to record the index of the wrong example\n",
    "missing_assistant_examples = []\n",
    "\n",
    "for i, ex in enumerate(dataset):\n",
    "    if not isinstance(ex, dict):\n",
    "        format_errors[\"data_type\"] += 1\n",
    "        continue\n",
    "        \n",
    "    messages = ex.get(\"messages\", None)\n",
    "    if not messages:\n",
    "        format_errors[\"missing_messages_list\"] += 1\n",
    "        continue\n",
    "        \n",
    "    for message in messages:\n",
    "        if \"role\" not in message or \"content\" not in message:\n",
    "            format_errors[\"message_missing_key\"] += 1\n",
    "        \n",
    "        if any(k not in (\"role\", \"content\", \"name\", \"function_call\") for k in message):\n",
    "            format_errors[\"message_unrecognized_key\"] += 1\n",
    "        \n",
    "        if message.get(\"role\", None) not in (\"system\", \"user\", \"assistant\", \"function\"):\n",
    "            format_errors[\"unrecognized_role\"] += 1\n",
    "            \n",
    "        content = message.get(\"content\", None)\n",
    "        function_call = message.get(\"function_call\", None)\n",
    "        \n",
    "        if (not content and not function_call) or not isinstance(content, str):\n",
    "            format_errors[\"missing_content\"] += 1\n",
    "    \n",
    "    if not any(message.get(\"role\", None) == \"assistant\" for message in messages):\n",
    "        format_errors[\"example_missing_assistant_message\"] += 1\n",
    "        missing_assistant_examples.append(i)  # 记录发生错误的例子的索引\n",
    "\n",
    "if format_errors:\n",
    "    print(\"Found errors:\")\n",
    "    for k, v in format_errors.items():\n",
    "        print(f\"{k}: {v}\")\n",
    "    if missing_assistant_examples:\n",
    "        print(\"Missing assistant messages in examples:\", missing_assistant_examples)\n",
    "else:\n",
    "    print(\"No errors found\")"
   ]
  },
  {
   "cell_type": "code",
   "execution_count": 16,
   "id": "1c768488b4496626",
   "metadata": {
    "collapsed": false,
    "ExecuteTime": {
     "end_time": "2024-01-02T22:06:51.954091300Z",
     "start_time": "2024-01-02T22:06:51.562621400Z"
    }
   },
   "outputs": [],
   "source": [
    "encoding = tiktoken.get_encoding(\"cl100k_base\")\n",
    "\n",
    "# not exact!\n",
    "# simplified from https://github.com/openai/openai-cookbook/blob/main/examples/How_to_count_tokens_with_tiktoken.ipynb\n",
    "def num_tokens_from_messages(messages, tokens_per_message=3, tokens_per_name=1):\n",
    "    num_tokens = 0\n",
    "    for message in messages:\n",
    "        num_tokens += tokens_per_message\n",
    "        for key, value in message.items():\n",
    "            num_tokens += len(encoding.encode(value))\n",
    "            if key == \"name\":\n",
    "                num_tokens += tokens_per_name\n",
    "    num_tokens += 3\n",
    "    return num_tokens\n",
    "\n",
    "def num_assistant_tokens_from_messages(messages):\n",
    "    num_tokens = 0\n",
    "    for message in messages:\n",
    "        if message[\"role\"] == \"assistant\":\n",
    "            num_tokens += len(encoding.encode(message[\"content\"]))\n",
    "    return num_tokens\n",
    "\n",
    "def print_distribution(values, name):\n",
    "    print(f\"\\n#### Distribution of {name}:\")\n",
    "    print(f\"min / max: {min(values)}, {max(values)}\")\n",
    "    print(f\"mean / median: {np.mean(values)}, {np.median(values)}\")\n",
    "    print(f\"p5 / p95: {np.quantile(values, 0.1)}, {np.quantile(values, 0.9)}\")"
   ]
  },
  {
   "cell_type": "code",
   "execution_count": 17,
   "id": "5b6a7828dc50bcdd",
   "metadata": {
    "collapsed": false,
    "ExecuteTime": {
     "end_time": "2024-01-02T22:06:52.540215800Z",
     "start_time": "2024-01-02T22:06:51.927466700Z"
    }
   },
   "outputs": [
    {
     "name": "stdout",
     "output_type": "stream",
     "text": [
      "Num examples missing system message: 0\n",
      "Num examples missing user message: 1\n",
      "\n",
      "#### Distribution of num_messages_per_example:\n",
      "min / max: 2, 83\n",
      "mean / median: 76.5546218487395, 75.0\n",
      "p5 / p95: 75.0, 83.0\n",
      "\n",
      "#### Distribution of num_total_tokens_per_example:\n",
      "min / max: 50, 1790\n",
      "mean / median: 1565.2689075630253, 1548.0\n",
      "p5 / p95: 1508.8, 1707.4\n",
      "\n",
      "#### Distribution of num_assistant_tokens_per_example:\n",
      "min / max: 25, 1261\n",
      "mean / median: 1142.5126050420167, 1120.0\n",
      "p5 / p95: 1109.0, 1247.0\n",
      "\n",
      "0 examples may be over the 4096 token limit, they will be truncated during fine-tuning\n"
     ]
    }
   ],
   "source": [
    "# Warnings and tokens counts\n",
    "n_missing_system = 0\n",
    "n_missing_user = 0\n",
    "n_messages = []\n",
    "convo_lens = []\n",
    "assistant_message_lens = []\n",
    "\n",
    "for ex in dataset:\n",
    "    messages = ex[\"messages\"]\n",
    "    if not any(message[\"role\"] == \"system\" for message in messages):\n",
    "        n_missing_system += 1\n",
    "    if not any(message[\"role\"] == \"user\" for message in messages):\n",
    "        n_missing_user += 1\n",
    "    n_messages.append(len(messages))\n",
    "    convo_lens.append(num_tokens_from_messages(messages))\n",
    "    assistant_message_lens.append(num_assistant_tokens_from_messages(messages))\n",
    "    \n",
    "print(\"Num examples missing system message:\", n_missing_system)\n",
    "print(\"Num examples missing user message:\", n_missing_user)\n",
    "print_distribution(n_messages, \"num_messages_per_example\")\n",
    "print_distribution(convo_lens, \"num_total_tokens_per_example\")\n",
    "print_distribution(assistant_message_lens, \"num_assistant_tokens_per_example\")\n",
    "n_too_long = sum(l > 4096 for l in convo_lens)\n",
    "print(f\"\\n{n_too_long} examples may be over the 4096 token limit, they will be truncated during fine-tuning\")"
   ]
  },
  {
   "cell_type": "code",
   "execution_count": 18,
   "id": "d68cc1ab877434f0",
   "metadata": {
    "collapsed": false,
    "ExecuteTime": {
     "end_time": "2024-01-02T22:06:52.544244500Z",
     "start_time": "2024-01-02T22:06:52.512645300Z"
    }
   },
   "outputs": [
    {
     "name": "stdout",
     "output_type": "stream",
     "text": [
      "Dataset has ~186267 tokens that will be charged for during training\n",
      "By default, you'll train for 3 epochs on this dataset\n",
      "By default, you'll be charged for ~558801 tokens\n"
     ]
    }
   ],
   "source": [
    "# Pricing and default n_epochs estimate\n",
    "MAX_TOKENS_PER_EXAMPLE = 4096\n",
    "\n",
    "TARGET_EPOCHS = 3\n",
    "MIN_TARGET_EXAMPLES = 100\n",
    "MAX_TARGET_EXAMPLES = 25000\n",
    "MIN_DEFAULT_EPOCHS = 1\n",
    "MAX_DEFAULT_EPOCHS = 25\n",
    "\n",
    "n_epochs = TARGET_EPOCHS\n",
    "n_train_examples = len(dataset)\n",
    "if n_train_examples * TARGET_EPOCHS < MIN_TARGET_EXAMPLES:\n",
    "    n_epochs = min(MAX_DEFAULT_EPOCHS, MIN_TARGET_EXAMPLES // n_train_examples)\n",
    "elif n_train_examples * TARGET_EPOCHS > MAX_TARGET_EXAMPLES:\n",
    "    n_epochs = max(MIN_DEFAULT_EPOCHS, MAX_TARGET_EXAMPLES // n_train_examples)\n",
    "\n",
    "n_billing_tokens_in_dataset = sum(min(MAX_TOKENS_PER_EXAMPLE, length) for length in convo_lens)\n",
    "print(f\"Dataset has ~{n_billing_tokens_in_dataset} tokens that will be charged for during training\")\n",
    "print(f\"By default, you'll train for {n_epochs} epochs on this dataset\")\n",
    "print(f\"By default, you'll be charged for ~{n_epochs * n_billing_tokens_in_dataset} tokens\")"
   ]
  },
  {
   "cell_type": "markdown",
   "id": "764f65f3d78f7521",
   "metadata": {
    "collapsed": false
   },
   "source": [
    "## 3.Design Chatbot\n",
    "Behavioral Activation is a method for a psychical therapy by:\n",
    "Taking part in psychologically beneficial activities,\n",
    "Keeping away from psychologically harmful activities and \n",
    "Solving mechanisms problems that hinder access to rewards or enhance negative control.\n",
    "\n",
    "### What should Chatbot do? \n",
    " 1.BA Introduction: Explain BA understandably at first and chatbot makes a self-introduction.\n",
    " 2.Mood Track: Ask user’s emotion today.\n",
    " 3.Activity Recommendation: Find activities that user likes and encourage the user to take part in them.\n",
    " 4.Activity Management : Schedule (PST or ICS files if possible) the activities and check in.\n",
    " 5.Incentive mechanism: prevent users from not doing the activity.\n",
    "    1).Public Declaration: encourage users to share their goals and activities publicly, such as on twitter. The social pressure and potential for public accountability can be a strong incentive.\n",
    "    2).Partner Supervision: encourage users to share their goals and activities to their friends and family so that they can supervise users’ activities and try to prevent users from avoiding participating in activities.\n",
    "    3).Schedule Check-in history: remind users to check their finished und uncompleted schedule.\n",
    "    4).Compliment and Praises: encourage users when they complete activities and remind users to remember and share the joy of successful completion of schedules.\n",
    "  \n",
    "### Knowledge Hub loading\n",
    "Knowledge Hub contains relevant knowledge of BA."
   ]
  },
  {
   "cell_type": "code",
   "execution_count": 19,
   "id": "2ecb6f61db5fc7be",
   "metadata": {
    "collapsed": false,
    "ExecuteTime": {
     "end_time": "2024-01-02T22:06:52.679609800Z",
     "start_time": "2024-01-02T22:06:52.527200400Z"
    }
   },
   "outputs": [
    {
     "data": {
      "text/plain": "                    entities  \\\n0                      Zest    \n1                    Zenith    \n2                  Yearning    \n3                    Wonder    \n4               Wistfulness    \n..                       ...   \n96   Activity Recommendation   \n97      add future schedule    \n98    add finished schedule    \n99          update schedule    \n100         delete schedule    \n\n                                          descriptions  \n0     Great enthusiasm and energy, often marked by ...  \n1     A feeling of being at the peak or highest poi...  \n2     A deep longing, especially for something or s...  \n3     A feeling of amazement and admiration, caused...  \n4     A feeling of vague or regretful longing, ofte...  \n..                                                 ...  \n96    Find activities that user likes and encourage...  \n97                          add an unfinished activity  \n98                          add an unfinished activity  \n99                                  update an activity  \n100                                 delete an activity  \n\n[101 rows x 2 columns]",
      "text/html": "<div>\n<style scoped>\n    .dataframe tbody tr th:only-of-type {\n        vertical-align: middle;\n    }\n\n    .dataframe tbody tr th {\n        vertical-align: top;\n    }\n\n    .dataframe thead th {\n        text-align: right;\n    }\n</style>\n<table border=\"1\" class=\"dataframe\">\n  <thead>\n    <tr style=\"text-align: right;\">\n      <th></th>\n      <th>entities</th>\n      <th>descriptions</th>\n    </tr>\n  </thead>\n  <tbody>\n    <tr>\n      <th>0</th>\n      <td>Zest</td>\n      <td>Great enthusiasm and energy, often marked by ...</td>\n    </tr>\n    <tr>\n      <th>1</th>\n      <td>Zenith</td>\n      <td>A feeling of being at the peak or highest poi...</td>\n    </tr>\n    <tr>\n      <th>2</th>\n      <td>Yearning</td>\n      <td>A deep longing, especially for something or s...</td>\n    </tr>\n    <tr>\n      <th>3</th>\n      <td>Wonder</td>\n      <td>A feeling of amazement and admiration, caused...</td>\n    </tr>\n    <tr>\n      <th>4</th>\n      <td>Wistfulness</td>\n      <td>A feeling of vague or regretful longing, ofte...</td>\n    </tr>\n    <tr>\n      <th>...</th>\n      <td>...</td>\n      <td>...</td>\n    </tr>\n    <tr>\n      <th>96</th>\n      <td>Activity Recommendation</td>\n      <td>Find activities that user likes and encourage...</td>\n    </tr>\n    <tr>\n      <th>97</th>\n      <td>add future schedule</td>\n      <td>add an unfinished activity</td>\n    </tr>\n    <tr>\n      <th>98</th>\n      <td>add finished schedule</td>\n      <td>add an unfinished activity</td>\n    </tr>\n    <tr>\n      <th>99</th>\n      <td>update schedule</td>\n      <td>update an activity</td>\n    </tr>\n    <tr>\n      <th>100</th>\n      <td>delete schedule</td>\n      <td>delete an activity</td>\n    </tr>\n  </tbody>\n</table>\n<p>101 rows × 2 columns</p>\n</div>"
     },
     "execution_count": 19,
     "metadata": {},
     "output_type": "execute_result"
    }
   ],
   "source": [
    "file_path = r'C:\\Users\\Li\\Desktop\\Engineering Seminar Human-Centered Systems\\data\\knowledge.csv'\n",
    "knowledge_df = pd.read_csv(file_path, sep='\\\\|\\\\|', engine='python',encoding='UTF-8')\n",
    "knowledge_df"
   ]
  },
  {
   "cell_type": "markdown",
   "id": "1ac53e95e7239700",
   "metadata": {
    "collapsed": false
   },
   "source": [
    "### Schedule List loading\n",
    "User Information such as Schedule and User Mood."
   ]
  },
  {
   "cell_type": "code",
   "execution_count": 20,
   "id": "9868f2044cbab18f",
   "metadata": {
    "collapsed": false,
    "ExecuteTime": {
     "end_time": "2024-01-02T22:06:52.711692200Z",
     "start_time": "2024-01-02T22:06:52.541723800Z"
    }
   },
   "outputs": [
    {
     "data": {
      "text/plain": "  entities                                       descriptions\n0    Zest    Great enthusiasm and energy, often marked by ...",
      "text/html": "<div>\n<style scoped>\n    .dataframe tbody tr th:only-of-type {\n        vertical-align: middle;\n    }\n\n    .dataframe tbody tr th {\n        vertical-align: top;\n    }\n\n    .dataframe thead th {\n        text-align: right;\n    }\n</style>\n<table border=\"1\" class=\"dataframe\">\n  <thead>\n    <tr style=\"text-align: right;\">\n      <th></th>\n      <th>entities</th>\n      <th>descriptions</th>\n    </tr>\n  </thead>\n  <tbody>\n    <tr>\n      <th>0</th>\n      <td>Zest</td>\n      <td>Great enthusiasm and energy, often marked by ...</td>\n    </tr>\n  </tbody>\n</table>\n</div>"
     },
     "execution_count": 20,
     "metadata": {},
     "output_type": "execute_result"
    }
   ],
   "source": [
    "file_path = r'C:\\Users\\Li\\Desktop\\Engineering Seminar Human-Centered Systems\\data\\schedule.csv'\n",
    "schedule_df = pd.read_csv(file_path, sep='\\\\|\\\\|', engine='python',encoding='UTF-8')\n",
    "schedule_df"
   ]
  },
  {
   "cell_type": "markdown",
   "id": "86fa087af9add502",
   "metadata": {
    "collapsed": false
   },
   "source": [
    "### 5 Basis Functions for the Knowledge Hub: sort_dataframe,add_sort_entity,delete_matching_entity,search_description,update_entity_description."
   ]
  },
  {
   "cell_type": "code",
   "execution_count": 21,
   "id": "a2b55959262be5c8",
   "metadata": {
    "collapsed": false,
    "ExecuteTime": {
     "end_time": "2024-01-02T22:06:52.811882300Z",
     "start_time": "2024-01-02T22:06:52.557265800Z"
    }
   },
   "outputs": [],
   "source": [
    "def sort_dataframe(df):\n",
    "    # Sort by the first word of entities column\n",
    "    df.sort_values(by='entities', key=lambda x: x.str.split().str[0], inplace=True)\n",
    "\n",
    "    return df"
   ]
  },
  {
   "cell_type": "code",
   "execution_count": 22,
   "id": "4ee6406cbdf7771b",
   "metadata": {
    "collapsed": false,
    "ExecuteTime": {
     "end_time": "2024-01-02T22:06:52.815408700Z",
     "start_time": "2024-01-02T22:06:52.603493500Z"
    }
   },
   "outputs": [
    {
     "data": {
      "text/plain": "                    entities  \\\n64              \"Exuberance    \n61              \"Foreboding    \n49              \"Insecurity    \n29               \"Pessimism    \n96   Activity Recommendation   \n..                       ...   \n0                      Zest    \n97      add future schedule    \n98    add finished schedule    \n100         delete schedule    \n99          update schedule    \n\n                                          descriptions  \n64    The quality of being full of energy, exciteme...  \n61    A feeling that something bad will happen; fea...  \n49    A feeling of uncertainty or anxiety about one...  \n29    A tendency to see the worst aspect of things ...  \n96    Find activities that user likes and encourage...  \n..                                                 ...  \n0     Great enthusiasm and energy, often marked by ...  \n97                          add an unfinished activity  \n98                          add an unfinished activity  \n100                                 delete an activity  \n99                                  update an activity  \n\n[101 rows x 2 columns]",
      "text/html": "<div>\n<style scoped>\n    .dataframe tbody tr th:only-of-type {\n        vertical-align: middle;\n    }\n\n    .dataframe tbody tr th {\n        vertical-align: top;\n    }\n\n    .dataframe thead th {\n        text-align: right;\n    }\n</style>\n<table border=\"1\" class=\"dataframe\">\n  <thead>\n    <tr style=\"text-align: right;\">\n      <th></th>\n      <th>entities</th>\n      <th>descriptions</th>\n    </tr>\n  </thead>\n  <tbody>\n    <tr>\n      <th>64</th>\n      <td>\"Exuberance</td>\n      <td>The quality of being full of energy, exciteme...</td>\n    </tr>\n    <tr>\n      <th>61</th>\n      <td>\"Foreboding</td>\n      <td>A feeling that something bad will happen; fea...</td>\n    </tr>\n    <tr>\n      <th>49</th>\n      <td>\"Insecurity</td>\n      <td>A feeling of uncertainty or anxiety about one...</td>\n    </tr>\n    <tr>\n      <th>29</th>\n      <td>\"Pessimism</td>\n      <td>A tendency to see the worst aspect of things ...</td>\n    </tr>\n    <tr>\n      <th>96</th>\n      <td>Activity Recommendation</td>\n      <td>Find activities that user likes and encourage...</td>\n    </tr>\n    <tr>\n      <th>...</th>\n      <td>...</td>\n      <td>...</td>\n    </tr>\n    <tr>\n      <th>0</th>\n      <td>Zest</td>\n      <td>Great enthusiasm and energy, often marked by ...</td>\n    </tr>\n    <tr>\n      <th>97</th>\n      <td>add future schedule</td>\n      <td>add an unfinished activity</td>\n    </tr>\n    <tr>\n      <th>98</th>\n      <td>add finished schedule</td>\n      <td>add an unfinished activity</td>\n    </tr>\n    <tr>\n      <th>100</th>\n      <td>delete schedule</td>\n      <td>delete an activity</td>\n    </tr>\n    <tr>\n      <th>99</th>\n      <td>update schedule</td>\n      <td>update an activity</td>\n    </tr>\n  </tbody>\n</table>\n<p>101 rows × 2 columns</p>\n</div>"
     },
     "execution_count": 22,
     "metadata": {},
     "output_type": "execute_result"
    }
   ],
   "source": [
    "# test\n",
    "df = sort_dataframe(knowledge_df)\n",
    "df"
   ]
  },
  {
   "cell_type": "code",
   "execution_count": 23,
   "id": "97fc9eb9cfd80914",
   "metadata": {
    "collapsed": false,
    "ExecuteTime": {
     "end_time": "2024-01-02T22:06:52.846489600Z",
     "start_time": "2024-01-02T22:06:52.618951700Z"
    }
   },
   "outputs": [],
   "source": [
    "def add_sort_entity(df, new_entity, new_description):\n",
    "\n",
    "    new_row = pd.DataFrame({'entities': [new_entity], 'descriptions': [new_description]})\n",
    "    \n",
    "    df = pd.concat([df, new_row], ignore_index=True)\n",
    "    \n",
    "    df = sort_dataframe(df)\n",
    "    \n",
    "    return df"
   ]
  },
  {
   "cell_type": "code",
   "execution_count": 24,
   "id": "daf080bb512a83e5",
   "metadata": {
    "collapsed": false,
    "ExecuteTime": {
     "end_time": "2024-01-02T22:06:52.850488700Z",
     "start_time": "2024-01-02T22:06:52.635042300Z"
    }
   },
   "outputs": [
    {
     "data": {
      "text/plain": "  entities                                       descriptions\n0    Zest    Great enthusiasm and energy, often marked by ...\n1  entity1                                       description1",
      "text/html": "<div>\n<style scoped>\n    .dataframe tbody tr th:only-of-type {\n        vertical-align: middle;\n    }\n\n    .dataframe tbody tr th {\n        vertical-align: top;\n    }\n\n    .dataframe thead th {\n        text-align: right;\n    }\n</style>\n<table border=\"1\" class=\"dataframe\">\n  <thead>\n    <tr style=\"text-align: right;\">\n      <th></th>\n      <th>entities</th>\n      <th>descriptions</th>\n    </tr>\n  </thead>\n  <tbody>\n    <tr>\n      <th>0</th>\n      <td>Zest</td>\n      <td>Great enthusiasm and energy, often marked by ...</td>\n    </tr>\n    <tr>\n      <th>1</th>\n      <td>entity1</td>\n      <td>description1</td>\n    </tr>\n  </tbody>\n</table>\n</div>"
     },
     "execution_count": 24,
     "metadata": {},
     "output_type": "execute_result"
    }
   ],
   "source": [
    "df=add_sort_entity(schedule_df,\"entity1\", \"description1\")\n",
    "df"
   ]
  },
  {
   "cell_type": "code",
   "execution_count": 25,
   "id": "5246cde2c98dba6c",
   "metadata": {
    "collapsed": false,
    "ExecuteTime": {
     "end_time": "2024-01-02T22:06:52.946473400Z",
     "start_time": "2024-01-02T22:06:52.650552500Z"
    }
   },
   "outputs": [
    {
     "data": {
      "text/plain": "  entities                                       descriptions\n0    Zest    Great enthusiasm and energy, often marked by ...\n1  entity1                                       description1\n2  entity3                                       description3",
      "text/html": "<div>\n<style scoped>\n    .dataframe tbody tr th:only-of-type {\n        vertical-align: middle;\n    }\n\n    .dataframe tbody tr th {\n        vertical-align: top;\n    }\n\n    .dataframe thead th {\n        text-align: right;\n    }\n</style>\n<table border=\"1\" class=\"dataframe\">\n  <thead>\n    <tr style=\"text-align: right;\">\n      <th></th>\n      <th>entities</th>\n      <th>descriptions</th>\n    </tr>\n  </thead>\n  <tbody>\n    <tr>\n      <th>0</th>\n      <td>Zest</td>\n      <td>Great enthusiasm and energy, often marked by ...</td>\n    </tr>\n    <tr>\n      <th>1</th>\n      <td>entity1</td>\n      <td>description1</td>\n    </tr>\n    <tr>\n      <th>2</th>\n      <td>entity3</td>\n      <td>description3</td>\n    </tr>\n  </tbody>\n</table>\n</div>"
     },
     "execution_count": 25,
     "metadata": {},
     "output_type": "execute_result"
    }
   ],
   "source": [
    "df=add_sort_entity(df,\"entity3\", \"description3\")\n",
    "df"
   ]
  },
  {
   "cell_type": "code",
   "execution_count": 26,
   "id": "49dc546ab4e8e3f3",
   "metadata": {
    "collapsed": false,
    "ExecuteTime": {
     "end_time": "2024-01-02T22:06:52.964550700Z",
     "start_time": "2024-01-02T22:06:52.665600100Z"
    }
   },
   "outputs": [],
   "source": [
    "def delete_matching_entity(df, entity_to_delete):\n",
    "\n",
    "    index_to_delete = df[df['entities'] == entity_to_delete].index.min()\n",
    "\n",
    "    if pd.notna(index_to_delete):\n",
    "        df = df.drop(index_to_delete)\n",
    "\n",
    "    return df"
   ]
  },
  {
   "cell_type": "code",
   "execution_count": 27,
   "id": "13f97b69549c2fc2",
   "metadata": {
    "collapsed": false,
    "ExecuteTime": {
     "end_time": "2024-01-02T22:06:52.987090700Z",
     "start_time": "2024-01-02T22:06:52.680610900Z"
    }
   },
   "outputs": [
    {
     "data": {
      "text/plain": "  entities                                       descriptions\n0    Zest    Great enthusiasm and energy, often marked by ...\n2  entity3                                       description3",
      "text/html": "<div>\n<style scoped>\n    .dataframe tbody tr th:only-of-type {\n        vertical-align: middle;\n    }\n\n    .dataframe tbody tr th {\n        vertical-align: top;\n    }\n\n    .dataframe thead th {\n        text-align: right;\n    }\n</style>\n<table border=\"1\" class=\"dataframe\">\n  <thead>\n    <tr style=\"text-align: right;\">\n      <th></th>\n      <th>entities</th>\n      <th>descriptions</th>\n    </tr>\n  </thead>\n  <tbody>\n    <tr>\n      <th>0</th>\n      <td>Zest</td>\n      <td>Great enthusiasm and energy, often marked by ...</td>\n    </tr>\n    <tr>\n      <th>2</th>\n      <td>entity3</td>\n      <td>description3</td>\n    </tr>\n  </tbody>\n</table>\n</div>"
     },
     "execution_count": 27,
     "metadata": {},
     "output_type": "execute_result"
    }
   ],
   "source": [
    "df=delete_matching_entity(df,\"entity1\")\n",
    "df"
   ]
  },
  {
   "cell_type": "code",
   "execution_count": 28,
   "id": "9ea7f1f00392becb",
   "metadata": {
    "collapsed": false,
    "ExecuteTime": {
     "end_time": "2024-01-02T22:06:53.011819100Z",
     "start_time": "2024-01-02T22:06:52.696165300Z"
    }
   },
   "outputs": [],
   "source": [
    "def search_description(df, entity_to_search):\n",
    "    # Remove extra spaces\n",
    "    cleaned_search = entity_to_search.strip()\n",
    "\n",
    "    # Use a more flexible matching method\n",
    "    matching_rows = df[df['entities'].str.contains(cleaned_search, case=False, na=False, regex=False)]\n",
    "\n",
    "    # Check if a matching line is found\n",
    "    if not matching_rows.empty:\n",
    "        # Return the description value of the first matching item\n",
    "        return matching_rows.iloc[0]['descriptions']\n",
    "    else:\n",
    "        return None"
   ]
  },
  {
   "cell_type": "code",
   "execution_count": 29,
   "id": "abc1958f74742e6a",
   "metadata": {
    "collapsed": false,
    "ExecuteTime": {
     "end_time": "2024-01-02T22:06:53.014806900Z",
     "start_time": "2024-01-02T22:06:52.709186800Z"
    }
   },
   "outputs": [],
   "source": [
    "search_description(df,\"Behavioral Activation\")"
   ]
  },
  {
   "cell_type": "code",
   "execution_count": 30,
   "id": "bd100919854fdfe9",
   "metadata": {
    "collapsed": false,
    "ExecuteTime": {
     "end_time": "2024-01-02T22:06:53.055655600Z",
     "start_time": "2024-01-02T22:06:52.727269400Z"
    }
   },
   "outputs": [],
   "source": [
    "def update_entity_description(df, original_entity, updated_entity, updated_description):\n",
    "    # Find lines matching original entity and description\n",
    "    for index, row in df.iterrows():\n",
    "        if row['entities'] == original_entity :\n",
    "            df.at[index, 'entities'] = updated_entity\n",
    "            df.at[index, 'descriptions'] = updated_description\n",
    "            break  # Assume only the first matching row is updated\n",
    "    else:\n",
    "        print(\"No matching row found to update\")\n",
    "\n",
    "    return df"
   ]
  },
  {
   "cell_type": "code",
   "execution_count": 31,
   "id": "821a824760f241ba",
   "metadata": {
    "collapsed": false,
    "ExecuteTime": {
     "end_time": "2024-01-02T22:06:53.136269900Z",
     "start_time": "2024-01-02T22:06:52.741882600Z"
    }
   },
   "outputs": [
    {
     "data": {
      "text/plain": "  entities                                       descriptions\n0    Zest    Great enthusiasm and energy, often marked by ...\n2  entity4                                       description4",
      "text/html": "<div>\n<style scoped>\n    .dataframe tbody tr th:only-of-type {\n        vertical-align: middle;\n    }\n\n    .dataframe tbody tr th {\n        vertical-align: top;\n    }\n\n    .dataframe thead th {\n        text-align: right;\n    }\n</style>\n<table border=\"1\" class=\"dataframe\">\n  <thead>\n    <tr style=\"text-align: right;\">\n      <th></th>\n      <th>entities</th>\n      <th>descriptions</th>\n    </tr>\n  </thead>\n  <tbody>\n    <tr>\n      <th>0</th>\n      <td>Zest</td>\n      <td>Great enthusiasm and energy, often marked by ...</td>\n    </tr>\n    <tr>\n      <th>2</th>\n      <td>entity4</td>\n      <td>description4</td>\n    </tr>\n  </tbody>\n</table>\n</div>"
     },
     "execution_count": 31,
     "metadata": {},
     "output_type": "execute_result"
    }
   ],
   "source": [
    "df=update_entity_description(df,\"entity3\",\"entity4\",\"description4\")\n",
    "df"
   ]
  },
  {
   "cell_type": "code",
   "execution_count": 32,
   "id": "59ce9bd966742ccc",
   "metadata": {
    "collapsed": false,
    "ExecuteTime": {
     "end_time": "2024-01-02T22:06:53.139270200Z",
     "start_time": "2024-01-02T22:06:52.758412100Z"
    }
   },
   "outputs": [
    {
     "name": "stdout",
     "output_type": "stream",
     "text": [
      "description4\n"
     ]
    }
   ],
   "source": [
    "print(search_description(df,\"entity4\"))"
   ]
  },
  {
   "cell_type": "code",
   "execution_count": 33,
   "id": "d6067584897673e8",
   "metadata": {
    "collapsed": false,
    "ExecuteTime": {
     "end_time": "2024-01-02T22:06:53.172840200Z",
     "start_time": "2024-01-02T22:06:52.774568300Z"
    }
   },
   "outputs": [
    {
     "data": {
      "text/plain": "  entities                                       descriptions\n0    Zest    Great enthusiasm and energy, often marked by ...",
      "text/html": "<div>\n<style scoped>\n    .dataframe tbody tr th:only-of-type {\n        vertical-align: middle;\n    }\n\n    .dataframe tbody tr th {\n        vertical-align: top;\n    }\n\n    .dataframe thead th {\n        text-align: right;\n    }\n</style>\n<table border=\"1\" class=\"dataframe\">\n  <thead>\n    <tr style=\"text-align: right;\">\n      <th></th>\n      <th>entities</th>\n      <th>descriptions</th>\n    </tr>\n  </thead>\n  <tbody>\n    <tr>\n      <th>0</th>\n      <td>Zest</td>\n      <td>Great enthusiasm and energy, often marked by ...</td>\n    </tr>\n  </tbody>\n</table>\n</div>"
     },
     "execution_count": 33,
     "metadata": {},
     "output_type": "execute_result"
    }
   ],
   "source": [
    "df=delete_matching_entity(df,\"entity4\")\n",
    "df"
   ]
  },
  {
   "cell_type": "markdown",
   "id": "f67b98585f73282f",
   "metadata": {
    "collapsed": false
   },
   "source": [
    "### Why we need RAG?\n",
    "1. Update data in real time (Schedules, Mood detection)\n",
    "2. Search support\n",
    "3. Generate more accurate answers instead of making up confusing answers\n",
    "\n",
    "#### Chunk Processing\n",
    "\n",
    "####  Relevent Chunk\n",
    "\n"
   ]
  },
  {
   "cell_type": "code",
   "execution_count": 34,
   "id": "4f7c219102324d16",
   "metadata": {
    "collapsed": false,
    "ExecuteTime": {
     "end_time": "2024-01-02T22:06:56.762823700Z",
     "start_time": "2024-01-02T22:06:52.794792200Z"
    }
   },
   "outputs": [],
   "source": [
    "from sentence_transformers import SentenceTransformer\n",
    "import faiss\n",
    "import numpy as np\n",
    "import pandas as pd\n",
    "\n",
    "def normalize_embeddings(embeddings):\n",
    "    \"\"\"\n",
    "    Normalize the embedding vector so that it becomes a unit vector.\n",
    "    \"\"\"\n",
    "    norms = np.linalg.norm(embeddings, axis=1, keepdims=True)\n",
    "    return embeddings / norms\n",
    "\n",
    "def extract_knowledges_from_df(df: pd.DataFrame, question, similarity_threshold=0.1):\n",
    "    \"\"\"\n",
    "    A lookup using the entities column in a DataFrame returns a DataFrame containing the entities and descriptions columns for the entities most relevant to a single question.\n",
    "     Based on a specified similarity threshold.\n",
    "    \"\"\"\n",
    "    model_name='all-MiniLM-L6-v2'\n",
    "    # Make sure the entities column exists\n",
    "    if 'entities' not in df.columns:\n",
    "        raise ValueError(\"DataFrame must have an 'entities' column\")\n",
    "\n",
    "    # Make sure the descriptions column exists\n",
    "    if 'descriptions' not in df.columns:\n",
    "        raise ValueError(\"DataFrame must have a 'descriptions' column\")\n",
    "\n",
    "    #Initialize SentenceTransformer model\n",
    "    model = SentenceTransformer(model_name)\n",
    "\n",
    "    # Get the value of entities column\n",
    "    entities = df['entities'].tolist()\n",
    "\n",
    "    # Calculate the embedding vector of the entity\n",
    "    entity_embeddings = model.encode(entities, convert_to_tensor=False)\n",
    "    entity_embeddings = normalize_embeddings(entity_embeddings)\n",
    "\n",
    "    # Create faiss index (use inner product to simulate cosine similarity)\n",
    "    index = faiss.IndexFlatIP(entity_embeddings.shape[1])\n",
    "    index.add(entity_embeddings)\n",
    "\n",
    "    # Calculate the embedding vector of the problem and normalize it\n",
    "    question_embedding = model.encode(question, convert_to_tensor=False)\n",
    "    question_embedding = normalize_embeddings(question_embedding.reshape(1, -1))\n",
    "\n",
    "    # Search for all entities whose similarity to the question is higher than the threshold\n",
    "    distances, indices = index.search(question_embedding, len(entities))\n",
    "\n",
    "    # Filter out entities whose similarity is greater than or equal to the threshold\n",
    "    filtered_indices = [index for index, distance in zip(indices[0], distances[0]) if distance >= similarity_threshold]\n",
    "\n",
    "     # Get and return the rows containing the top three entities with the highest similarity\n",
    "    top_indices = filtered_indices[:3]  \n",
    "    result_df = df.iloc[top_indices]\n",
    "\n",
    "    return result_df[['entities', 'descriptions']]\n"
   ]
  },
  {
   "cell_type": "markdown",
   "id": "4bf1249b723eb410",
   "metadata": {
    "collapsed": false
   },
   "source": [
    "### Schedule Management"
   ]
  },
  {
   "cell_type": "code",
   "execution_count": 35,
   "id": "de5760362c59acd3",
   "metadata": {
    "collapsed": false,
    "ExecuteTime": {
     "end_time": "2024-01-02T22:06:56.776994500Z",
     "start_time": "2024-01-02T22:06:56.763830300Z"
    }
   },
   "outputs": [],
   "source": [
    "from datetime import datetime\n",
    "def add_finished_schedule(df, new_entity, userinput):\n",
    "    \"\"\"\n",
    "    Add a new schedule entry to the DataFrame.\n",
    "    The new entity will have a prefix and a timestamp.\n",
    "    \"\"\"\n",
    "    # Generate the new entity value with timestamp\n",
    "    timestamp = datetime.now().strftime(\"%Y-%m-%d\")\n",
    "    full_entity = f\"schedule finished {new_entity} {timestamp}\"\n",
    "\n",
    "    # Add and sort the new entry\n",
    "    return add_sort_entity(df, full_entity, userinput)\n"
   ]
  },
  {
   "cell_type": "code",
   "execution_count": 36,
   "id": "f9dba9b5619870ac",
   "metadata": {
    "collapsed": false,
    "ExecuteTime": {
     "end_time": "2024-01-02T22:06:56.823932400Z",
     "start_time": "2024-01-02T22:06:56.778994800Z"
    }
   },
   "outputs": [],
   "source": [
    "from datetime import datetime\n",
    "def add_unfinished_schedule(df, new_entity, userinput):\n",
    "    \"\"\"\n",
    "    Add a new schedule entry to the DataFrame.\n",
    "    The new entity will have a prefix and a timestamp.\n",
    "    \"\"\"\n",
    "    # Generate the new entity value with timestamp\n",
    "    timestamp = datetime.now().strftime(\"%Y-%m-%d\")\n",
    "    full_entity = f\"schedule unfinished {new_entity} {timestamp}\"\n",
    "\n",
    "    # Add and sort the new entry\n",
    "    return add_sort_entity(df, full_entity, userinput)\n"
   ]
  },
  {
   "cell_type": "code",
   "execution_count": 37,
   "id": "8afe8048fa86b542",
   "metadata": {
    "collapsed": false,
    "ExecuteTime": {
     "end_time": "2024-01-02T22:06:56.826930900Z",
     "start_time": "2024-01-02T22:06:56.795532Z"
    }
   },
   "outputs": [],
   "source": [
    "def update_schedule(df,new_entity, userinput):\n",
    "    schedule_df = extract_knowledges_from_df(df,userinput,0.4)[:1]\n",
    "    original_entity = schedule_df.iloc[0]['entities']\n",
    "    timestamp = datetime.now().strftime(\"%Y-%m-%d\")\n",
    "    updated_entity = f\"schedule unfinished {new_entity} {timestamp}\"\n",
    "    return update_entity_description(df,original_entity=original_entity,updated_entity=updated_entity,updated_description=userinput)\n",
    "    "
   ]
  },
  {
   "cell_type": "code",
   "execution_count": 38,
   "id": "6d154cf3e47d1e3f",
   "metadata": {
    "collapsed": false,
    "ExecuteTime": {
     "end_time": "2024-01-02T22:06:56.863072800Z",
     "start_time": "2024-01-02T22:06:56.810548600Z"
    }
   },
   "outputs": [],
   "source": [
    "def delete_schedule(df, userinput):\n",
    "    entity_to_delete_df = extract_knowledges_from_df(df,userinput,0.4)[:1]\n",
    "    print(\"entity_to_delete_df\",entity_to_delete_df)\n",
    "    entity_to_delete = entity_to_delete_df.iloc[0]['entities']\n",
    "    print(\"entity_to_delete\",entity_to_delete)\n",
    "    timestamp = datetime.now().strftime(\"%Y-%m-%d\")\n",
    "    deleted_entity = f\"schedule unfinished {entity_to_delete} {timestamp}\"\n",
    "    print(\"deleted_entity\",deleted_entity)\n",
    "    return delete_matching_entity(df,deleted_entity)\n",
    "    "
   ]
  },
  {
   "cell_type": "code",
   "execution_count": 39,
   "id": "e8df6a6822632d2",
   "metadata": {
    "collapsed": false,
    "ExecuteTime": {
     "end_time": "2024-01-02T22:06:56.879651100Z",
     "start_time": "2024-01-02T22:06:56.828928800Z"
    }
   },
   "outputs": [
    {
     "data": {
      "text/plain": "                                  entities  \\\n0                                    Zest    \n1  schedule unfinished Swimming 2024-01-02   \n\n                                        descriptions  \n0   Great enthusiasm and energy, often marked by ...  \n1                                     I want to swim  ",
      "text/html": "<div>\n<style scoped>\n    .dataframe tbody tr th:only-of-type {\n        vertical-align: middle;\n    }\n\n    .dataframe tbody tr th {\n        vertical-align: top;\n    }\n\n    .dataframe thead th {\n        text-align: right;\n    }\n</style>\n<table border=\"1\" class=\"dataframe\">\n  <thead>\n    <tr style=\"text-align: right;\">\n      <th></th>\n      <th>entities</th>\n      <th>descriptions</th>\n    </tr>\n  </thead>\n  <tbody>\n    <tr>\n      <th>0</th>\n      <td>Zest</td>\n      <td>Great enthusiasm and energy, often marked by ...</td>\n    </tr>\n    <tr>\n      <th>1</th>\n      <td>schedule unfinished Swimming 2024-01-02</td>\n      <td>I want to swim</td>\n    </tr>\n  </tbody>\n</table>\n</div>"
     },
     "execution_count": 39,
     "metadata": {},
     "output_type": "execute_result"
    }
   ],
   "source": [
    "schedule_df = add_unfinished_schedule(schedule_df,\"Swimming\",\"I want to swim\")\n",
    "schedule_df"
   ]
  },
  {
   "cell_type": "code",
   "execution_count": 40,
   "id": "dca5a98eecf8efde",
   "metadata": {
    "collapsed": false,
    "ExecuteTime": {
     "end_time": "2024-01-02T22:06:56.890198800Z",
     "start_time": "2024-01-02T22:06:56.840449800Z"
    }
   },
   "outputs": [
    {
     "data": {
      "text/plain": "                                  entities  \\\n0                                    Zest    \n1  schedule unfinished Swimming 2024-01-02   \n2     schedule finished Running 2024-01-02   \n\n                                        descriptions  \n0   Great enthusiasm and energy, often marked by ...  \n1                                     I want to swim  \n2                            I have finished running  ",
      "text/html": "<div>\n<style scoped>\n    .dataframe tbody tr th:only-of-type {\n        vertical-align: middle;\n    }\n\n    .dataframe tbody tr th {\n        vertical-align: top;\n    }\n\n    .dataframe thead th {\n        text-align: right;\n    }\n</style>\n<table border=\"1\" class=\"dataframe\">\n  <thead>\n    <tr style=\"text-align: right;\">\n      <th></th>\n      <th>entities</th>\n      <th>descriptions</th>\n    </tr>\n  </thead>\n  <tbody>\n    <tr>\n      <th>0</th>\n      <td>Zest</td>\n      <td>Great enthusiasm and energy, often marked by ...</td>\n    </tr>\n    <tr>\n      <th>1</th>\n      <td>schedule unfinished Swimming 2024-01-02</td>\n      <td>I want to swim</td>\n    </tr>\n    <tr>\n      <th>2</th>\n      <td>schedule finished Running 2024-01-02</td>\n      <td>I have finished running</td>\n    </tr>\n  </tbody>\n</table>\n</div>"
     },
     "execution_count": 40,
     "metadata": {},
     "output_type": "execute_result"
    }
   ],
   "source": [
    "schedule_df = add_finished_schedule(schedule_df,\"Running\",\"I have finished running\")\n",
    "schedule_df"
   ]
  },
  {
   "cell_type": "code",
   "execution_count": 41,
   "id": "c627e6fbe7681107",
   "metadata": {
    "collapsed": false,
    "ExecuteTime": {
     "end_time": "2024-01-02T22:06:57.818567300Z",
     "start_time": "2024-01-02T22:06:56.856054700Z"
    }
   },
   "outputs": [
    {
     "name": "stdout",
     "output_type": "stream",
     "text": [
      "entity_to_delete_df                                   entities    descriptions\n",
      "1  schedule unfinished Swimming 2024-01-02  I want to swim\n",
      "entity_to_delete schedule unfinished Swimming 2024-01-02\n",
      "deleted_entity schedule unfinished schedule unfinished Swimming 2024-01-02 2024-01-02\n"
     ]
    },
    {
     "data": {
      "text/plain": "                                  entities  \\\n0                                    Zest    \n1  schedule unfinished Swimming 2024-01-02   \n2     schedule finished Running 2024-01-02   \n\n                                        descriptions  \n0   Great enthusiasm and energy, often marked by ...  \n1                                     I want to swim  \n2                            I have finished running  ",
      "text/html": "<div>\n<style scoped>\n    .dataframe tbody tr th:only-of-type {\n        vertical-align: middle;\n    }\n\n    .dataframe tbody tr th {\n        vertical-align: top;\n    }\n\n    .dataframe thead th {\n        text-align: right;\n    }\n</style>\n<table border=\"1\" class=\"dataframe\">\n  <thead>\n    <tr style=\"text-align: right;\">\n      <th></th>\n      <th>entities</th>\n      <th>descriptions</th>\n    </tr>\n  </thead>\n  <tbody>\n    <tr>\n      <th>0</th>\n      <td>Zest</td>\n      <td>Great enthusiasm and energy, often marked by ...</td>\n    </tr>\n    <tr>\n      <th>1</th>\n      <td>schedule unfinished Swimming 2024-01-02</td>\n      <td>I want to swim</td>\n    </tr>\n    <tr>\n      <th>2</th>\n      <td>schedule finished Running 2024-01-02</td>\n      <td>I have finished running</td>\n    </tr>\n  </tbody>\n</table>\n</div>"
     },
     "execution_count": 41,
     "metadata": {},
     "output_type": "execute_result"
    }
   ],
   "source": [
    "schedule_df = delete_schedule(schedule_df,\"Swimming\")\n",
    "schedule_df"
   ]
  },
  {
   "cell_type": "code",
   "execution_count": 42,
   "id": "3b6de93663654c05",
   "metadata": {
    "collapsed": false,
    "ExecuteTime": {
     "end_time": "2024-01-02T22:06:58.137706100Z",
     "start_time": "2024-01-02T22:06:57.819568Z"
    }
   },
   "outputs": [
    {
     "data": {
      "text/plain": "                                  entities             descriptions\n1  schedule unfinished Swimming 2024-01-02           I want to swim\n2     schedule finished Running 2024-01-02  I have finished running",
      "text/html": "<div>\n<style scoped>\n    .dataframe tbody tr th:only-of-type {\n        vertical-align: middle;\n    }\n\n    .dataframe tbody tr th {\n        vertical-align: top;\n    }\n\n    .dataframe thead th {\n        text-align: right;\n    }\n</style>\n<table border=\"1\" class=\"dataframe\">\n  <thead>\n    <tr style=\"text-align: right;\">\n      <th></th>\n      <th>entities</th>\n      <th>descriptions</th>\n    </tr>\n  </thead>\n  <tbody>\n    <tr>\n      <th>1</th>\n      <td>schedule unfinished Swimming 2024-01-02</td>\n      <td>I want to swim</td>\n    </tr>\n    <tr>\n      <th>2</th>\n      <td>schedule finished Running 2024-01-02</td>\n      <td>I have finished running</td>\n    </tr>\n  </tbody>\n</table>\n</div>"
     },
     "execution_count": 42,
     "metadata": {},
     "output_type": "execute_result"
    }
   ],
   "source": [
    "extract_knowledges_from_df(schedule_df,\"What activity have I not finished?\",0.3)"
   ]
  },
  {
   "cell_type": "code",
   "execution_count": 43,
   "id": "88f552534811a398",
   "metadata": {
    "collapsed": false,
    "ExecuteTime": {
     "end_time": "2024-01-02T22:06:58.440524Z",
     "start_time": "2024-01-02T22:06:58.136707100Z"
    }
   },
   "outputs": [
    {
     "data": {
      "text/plain": "                                  entities             descriptions\n1  schedule unfinished Swimming 2024-01-02           I want to swim\n2     schedule finished Running 2024-01-02  I have finished running",
      "text/html": "<div>\n<style scoped>\n    .dataframe tbody tr th:only-of-type {\n        vertical-align: middle;\n    }\n\n    .dataframe tbody tr th {\n        vertical-align: top;\n    }\n\n    .dataframe thead th {\n        text-align: right;\n    }\n</style>\n<table border=\"1\" class=\"dataframe\">\n  <thead>\n    <tr style=\"text-align: right;\">\n      <th></th>\n      <th>entities</th>\n      <th>descriptions</th>\n    </tr>\n  </thead>\n  <tbody>\n    <tr>\n      <th>1</th>\n      <td>schedule unfinished Swimming 2024-01-02</td>\n      <td>I want to swim</td>\n    </tr>\n    <tr>\n      <th>2</th>\n      <td>schedule finished Running 2024-01-02</td>\n      <td>I have finished running</td>\n    </tr>\n  </tbody>\n</table>\n</div>"
     },
     "execution_count": 43,
     "metadata": {},
     "output_type": "execute_result"
    }
   ],
   "source": [
    "extract_knowledges_from_df(schedule_df,\"What activity have I finished?\",0.3)"
   ]
  },
  {
   "cell_type": "code",
   "execution_count": 44,
   "id": "aaef70019fb70a0b",
   "metadata": {
    "collapsed": false,
    "ExecuteTime": {
     "end_time": "2024-01-02T22:06:58.734004300Z",
     "start_time": "2024-01-02T22:06:58.430478800Z"
    }
   },
   "outputs": [
    {
     "data": {
      "text/plain": "                                  entities             descriptions\n1  schedule unfinished Swimming 2024-01-02           I want to swim\n2     schedule finished Running 2024-01-02  I have finished running",
      "text/html": "<div>\n<style scoped>\n    .dataframe tbody tr th:only-of-type {\n        vertical-align: middle;\n    }\n\n    .dataframe tbody tr th {\n        vertical-align: top;\n    }\n\n    .dataframe thead th {\n        text-align: right;\n    }\n</style>\n<table border=\"1\" class=\"dataframe\">\n  <thead>\n    <tr style=\"text-align: right;\">\n      <th></th>\n      <th>entities</th>\n      <th>descriptions</th>\n    </tr>\n  </thead>\n  <tbody>\n    <tr>\n      <th>1</th>\n      <td>schedule unfinished Swimming 2024-01-02</td>\n      <td>I want to swim</td>\n    </tr>\n    <tr>\n      <th>2</th>\n      <td>schedule finished Running 2024-01-02</td>\n      <td>I have finished running</td>\n    </tr>\n  </tbody>\n</table>\n</div>"
     },
     "execution_count": 44,
     "metadata": {},
     "output_type": "execute_result"
    }
   ],
   "source": [
    "extract_knowledges_from_df(schedule_df,\"Do I swim today or yesterday?\",0.1)"
   ]
  },
  {
   "cell_type": "code",
   "execution_count": 45,
   "id": "1f7b9b3827c7a7e2",
   "metadata": {
    "collapsed": false,
    "ExecuteTime": {
     "end_time": "2024-01-02T22:06:59.004802400Z",
     "start_time": "2024-01-02T22:06:58.728551300Z"
    }
   },
   "outputs": [
    {
     "data": {
      "text/plain": "Empty DataFrame\nColumns: [entities, descriptions]\nIndex: []",
      "text/html": "<div>\n<style scoped>\n    .dataframe tbody tr th:only-of-type {\n        vertical-align: middle;\n    }\n\n    .dataframe tbody tr th {\n        vertical-align: top;\n    }\n\n    .dataframe thead th {\n        text-align: right;\n    }\n</style>\n<table border=\"1\" class=\"dataframe\">\n  <thead>\n    <tr style=\"text-align: right;\">\n      <th></th>\n      <th>entities</th>\n      <th>descriptions</th>\n    </tr>\n  </thead>\n  <tbody>\n  </tbody>\n</table>\n</div>"
     },
     "execution_count": 45,
     "metadata": {},
     "output_type": "execute_result"
    }
   ],
   "source": [
    "extract_knowledges_from_df(schedule_df,\"What is BA\",0.1)"
   ]
  },
  {
   "cell_type": "code",
   "execution_count": 46,
   "id": "4e5720c029d6c80e",
   "metadata": {
    "collapsed": false,
    "ExecuteTime": {
     "end_time": "2024-01-02T22:06:59.300182300Z",
     "start_time": "2024-01-02T22:06:59.004802400Z"
    }
   },
   "outputs": [
    {
     "data": {
      "text/plain": "                                  entities    descriptions\n1  schedule unfinished Swimming 2024-01-02  I want to swim",
      "text/html": "<div>\n<style scoped>\n    .dataframe tbody tr th:only-of-type {\n        vertical-align: middle;\n    }\n\n    .dataframe tbody tr th {\n        vertical-align: top;\n    }\n\n    .dataframe thead th {\n        text-align: right;\n    }\n</style>\n<table border=\"1\" class=\"dataframe\">\n  <thead>\n    <tr style=\"text-align: right;\">\n      <th></th>\n      <th>entities</th>\n      <th>descriptions</th>\n    </tr>\n  </thead>\n  <tbody>\n    <tr>\n      <th>1</th>\n      <td>schedule unfinished Swimming 2024-01-02</td>\n      <td>I want to swim</td>\n    </tr>\n  </tbody>\n</table>\n</div>"
     },
     "execution_count": 46,
     "metadata": {},
     "output_type": "execute_result"
    }
   ],
   "source": [
    "extract_knowledges_from_df(schedule_df,\"what should I do today?\",0.1)"
   ]
  },
  {
   "cell_type": "markdown",
   "id": "a6aba703baa2634a",
   "metadata": {
    "collapsed": false
   },
   "source": [
    "### Transfer Dataframe to string to construct prompt"
   ]
  },
  {
   "cell_type": "code",
   "execution_count": 47,
   "id": "89ac057d908c5e3e",
   "metadata": {
    "collapsed": false,
    "ExecuteTime": {
     "end_time": "2024-01-02T22:06:59.350310Z",
     "start_time": "2024-01-02T22:06:59.301691500Z"
    }
   },
   "outputs": [],
   "source": [
    "def dataframe_to_string(df):\n",
    "    \"\"\"\n",
    "    Convert each row of the DataFrame to a string and add a period after the end of each row.\n",
    "    \"\"\"\n",
    "    # 将DataFrame的每行转换为由空格分隔的字符串，并添加句号\n",
    "    lines = [' '.join(map(str, row)) + '.' for row in df.itertuples(index=False, name=None)]\n",
    "\n",
    "    # 将所有行连接成一个单一的字符串\n",
    "    context =  ' '.join(lines)\n",
    "    return \" Given retrievaled context: \"+context\n"
   ]
  },
  {
   "cell_type": "code",
   "execution_count": 48,
   "id": "acb4558b217cb4e3",
   "metadata": {
    "collapsed": false,
    "ExecuteTime": {
     "end_time": "2024-01-02T22:06:59.590357Z",
     "start_time": "2024-01-02T22:06:59.316239800Z"
    }
   },
   "outputs": [
    {
     "data": {
      "text/plain": "' Given retrievaled context: schedule unfinished Swimming 2024-01-02 I want to swim.'"
     },
     "execution_count": 48,
     "metadata": {},
     "output_type": "execute_result"
    }
   ],
   "source": [
    "dataframe_to_string(extract_knowledges_from_df(schedule_df,\"what should I do today?\",0.1))"
   ]
  },
  {
   "cell_type": "markdown",
   "id": "f3e358f2d28e5911",
   "metadata": {
    "collapsed": false
   },
   "source": [
    "### Timestamp for Prompt"
   ]
  },
  {
   "cell_type": "code",
   "execution_count": 49,
   "id": "7efd54e0d10d1d22",
   "metadata": {
    "collapsed": false,
    "ExecuteTime": {
     "end_time": "2024-01-02T22:06:59.646649300Z",
     "start_time": "2024-01-02T22:06:59.579836100Z"
    }
   },
   "outputs": [],
   "source": [
    "from datetime import datetime\n",
    "\n",
    "# Function to get current timestamp\n",
    "def get_current_timestamp():\n",
    "    return \"Today is \" + datetime.now().strftime(\"%Y-%m-%d %H:%M:%S\")"
   ]
  },
  {
   "cell_type": "code",
   "execution_count": 50,
   "id": "7e288698ec16dd2f",
   "metadata": {
    "collapsed": false,
    "ExecuteTime": {
     "end_time": "2024-01-02T22:06:59.651646700Z",
     "start_time": "2024-01-02T22:06:59.595467100Z"
    }
   },
   "outputs": [
    {
     "data": {
      "text/plain": "'Today is 2024-01-02 23:06:59'"
     },
     "execution_count": 50,
     "metadata": {},
     "output_type": "execute_result"
    }
   ],
   "source": [
    "get_current_timestamp()"
   ]
  },
  {
   "cell_type": "markdown",
   "id": "8dcfe440e60e445f",
   "metadata": {
    "collapsed": false
   },
   "source": [
    "#### Save messages to the specified folder\n",
    "folder_path = r\"folder_path\"\n",
    "example: save_messages_to_txt(messages, folder_path)"
   ]
  },
  {
   "cell_type": "code",
   "execution_count": 51,
   "id": "1bd253d02c170fb5",
   "metadata": {
    "collapsed": false,
    "ExecuteTime": {
     "end_time": "2024-01-02T22:06:59.669680900Z",
     "start_time": "2024-01-02T22:06:59.613504100Z"
    }
   },
   "outputs": [],
   "source": [
    "import os\n",
    "import json\n",
    "from datetime import datetime\n",
    "folder_path = r\"C:\\Users\\Li\\Desktop\\Engineering Seminar Human-Centered Systems\"\n",
    "def save_messages_to_jsonl(messages, folder_path):\n",
    "    # Create a filename based on the current timestamp\n",
    "    timestamp = datetime.now().strftime(\"%Y%m%d%H%M%S\")\n",
    "    filename = f\"{timestamp}.jsonl\"\n",
    "\n",
    "    # Make sure the folder path exists\n",
    "    if not os.path.exists(folder_path):\n",
    "        os.makedirs(folder_path)\n",
    "\n",
    "    #Create full file path\n",
    "    file_path = os.path.join(folder_path, filename)\n",
    "\n",
    "    # Save messages to JSONL file\n",
    "    with open(file_path, 'w', encoding='utf-8') as file:\n",
    "        for message in messages:\n",
    "            # 将字典转换为JSON字符串并写入文件\n",
    "            json_str = json.dumps(message)\n",
    "            file.write(json_str + '\\n')\n",
    "\n",
    "    print(f\"Messages saved to {file_path}\")"
   ]
  },
  {
   "cell_type": "markdown",
   "id": "36a6a1ee7e0a1a94",
   "metadata": {
    "collapsed": false
   },
   "source": [
    "### Single Answered Method\n",
    "Use get_answer_with_single_question to modify other functions like: Mood track"
   ]
  },
  {
   "cell_type": "code",
   "execution_count": 52,
   "id": "5fb0ce7674b1c32d",
   "metadata": {
    "collapsed": false,
    "ExecuteTime": {
     "end_time": "2024-01-02T22:07:00.014092500Z",
     "start_time": "2024-01-02T22:06:59.628614600Z"
    }
   },
   "outputs": [],
   "source": [
    "import os\n",
    "from openai import OpenAI\n",
    "import openai\n",
    "\n",
    "def get_answer_with_single_question(df, question, similarity_threshold = 0.1):\n",
    "\n",
    "    # Extract relevant information as context\n",
    "    context = dataframe_to_string(extract_knowledges_from_df(df,question,similarity_threshold))\n",
    "\n",
    "    # Set OpenAI API key\n",
    "    api_key = os.environ.get('OPENAI_API_KEY')\n",
    "    openai.api_key = api_key\n",
    "\n",
    "    # Initialize OpenAI client\n",
    "    client = OpenAI(api_key=api_key)\n",
    "\n",
    "    # Set up the model\n",
    "    model=\"gpt-3.5-turbo-1106\"\n",
    "\n",
    "    try:\n",
    "        messages=[\n",
    "                    {\"role\": \"system\", \"content\": \"You are a helpful assistant. Given context, answer in a noun or a phrase with noun.\"},\n",
    "                    # instruction\n",
    "                    {\"role\": \"user\", \"content\": question + \" \" + context}\n",
    "        ]\n",
    "        response = client.chat.completions.create(\n",
    "            model=model,\n",
    "            messages=messages\n",
    "        )\n",
    "        \n",
    "        # Extract and return the answer\n",
    "        answer = response.choices[0].message.content\n",
    "        return answer\n",
    "\n",
    "    except Exception as e:\n",
    "        print(f\"An error occurred while processing the problem: {e}\")\n",
    "        return \"Unable to get answer\"\n",
    "\n"
   ]
  },
  {
   "cell_type": "code",
   "execution_count": 53,
   "id": "67f5140e87d9af54",
   "metadata": {
    "collapsed": false,
    "ExecuteTime": {
     "end_time": "2024-01-02T22:07:00.823648300Z",
     "start_time": "2024-01-02T22:07:00.015099600Z"
    }
   },
   "outputs": [
    {
     "data": {
      "text/plain": "'Exploring a nearby park.'"
     },
     "execution_count": 53,
     "metadata": {},
     "output_type": "execute_result"
    }
   ],
   "source": [
    "get_answer_with_single_question(df,\"what should I do today?\")"
   ]
  },
  {
   "cell_type": "markdown",
   "id": "c9c1c7a9559ff41b",
   "metadata": {
    "collapsed": false
   },
   "source": [
    "### Mood Track"
   ]
  },
  {
   "cell_type": "code",
   "execution_count": 54,
   "id": "15c8a9c357de0795",
   "metadata": {
    "collapsed": false,
    "ExecuteTime": {
     "end_time": "2024-01-02T22:07:00.867009500Z",
     "start_time": "2024-01-02T22:07:00.831696300Z"
    }
   },
   "outputs": [],
   "source": [
    "messages= [{\"role\": \"system\", \"content\": \"You are a helpful chatbot that based on Behavioural activation treatment.\"}, {\"role\": \"assistant\", \"content\": \"Lass uns mal versuchen, ein paar Aktivitäten zu finden, die dir Spaß machen! 🙌\"}, {\"role\": \"user\", \"content\": \"👍\"}, {\"role\": \"assistant\", \"content\": \"Fällt es dir schwer, eine positive Aktivität in deinen Alltag einzubauen?\"}, {\"role\": \"user\", \"content\": \"Geht eigentlich\"}, {\"role\": \"assistant\", \"content\": \"Aber da bist du nicht allein! Viele haben genug für die Schule, Universität oder Arbeit 🧑💼 zu tun und nur wenig Freizeit.\"}, {\"role\": \"assistant\", \"content\": \"Aber: Positive Aktivitäten müssen keine große Sache sein!\"}, {\"role\": \"assistant\", \"content\": \"Manchmal kann es schon helfen, wenn du duschen gehst und dich danach frisch fühlst. 🚿\"}, {\"role\": \"assistant\", \"content\": \"Auch solche kleinen Aktivitäten können helfen, deine Stimmung zu verbessern und auf bessere Gedanken zu kommen.\"}, {\"role\": \"user\", \"content\": \"Ich verstehe. 👌\"}, {\"role\": \"assistant\", \"content\": \"Bestimmt kennst du ein paar Aktivitäten, bei denen du sagst, ...\"}, {\"role\": \"assistant\", \"content\": \"... das macht mir Spaß. 🎈 Dabei habe ich gute Laune. Dabei kann ich mich entspannen. 💆\"}, {\"role\": \"assistant\", \"content\": \"Fällt dir was ein oder soll ich dir Beispiele zeigen?\"}, {\"role\": \"assistant\", \"content\": \"Lass uns doch mal 3 Aktivitäten sammeln, die dir im Alltag Freude machen könnten. Okay?\"}, {\"role\": \"assistant\", \"content\": \"Was mach dir im Alltag Freude? Was ist die erste Aktivität, die dir einfällt?\"}, {\"role\": \"user\", \"content\": \"Ich weiß was, lass uns starten!\"}, {\"role\": \"assistant\", \"content\": \"Super! Dann los! 🚀\"}, {\"role\": \"user\", \"content\": \"Sport\"}, {\"role\": \"assistant\", \"content\": \"Danke. Und was ist die Zweite?\"}, {\"role\": \"user\", \"content\": \"Freunde treffen\"}, {\"role\": \"assistant\", \"content\": \"👍 Hast du noch eine dritte Aktivität für mich?\"}, {\"role\": \"user\", \"content\": \"Kochen\"}, {\"role\": \"assistant\", \"content\": \"Wohoo! 🥳 Geschafft! Jetzt haben wir 3 Aktivitäten, die dir Freude machen.\"}, {\"role\": \"assistant\", \"content\": \"Denke daran: Nur wenn du etwas machst, dann wird es dir langsam besser gehen!\"}, {\"role\": \"assistant\", \"content\": \"Damit du die schönen Aktivitäten auch wirklich umsetzt, planen wir die jetzt einfach gemeinsam!\"}, {\"role\": \"assistant\", \"content\": \"Kennst du das auch von dir?\"}, {\"role\": \"assistant\", \"content\": \"Etwas zu planen ergibt Sinn, da viele junge Menschen gestresst sind.\"}, {\"role\": \"user\", \"content\": \"Okay 👍\"}, {\"role\": \"assistant\", \"content\": \"Denn du hast was, auf das du dich freuen kannst. 🎉\"}, {\"role\": \"user\", \"content\": \"Ja, das kenne ich\"}, {\"role\": \"assistant\", \"content\": \"Wenn du nämlich positive Aktivitäten planst, bist du gleich etwas entspannter!\"}, {\"role\": \"assistant\", \"content\": \"Pass dabei aber auf andere Termine auf. Die können wir ja nicht verändern. 📅\"}, {\"role\": \"assistant\", \"content\": \"An sehr stressigen Tagen können die schönen Aktivitäten auch kurz sein: So zwischen 30 Sekunden und 15 Minuten.\"}, {\"role\": \"user\", \"content\": \"👌 Klingt gut.\"}, {\"role\": \"assistant\", \"content\": \"Lass uns das mal ausprobieren! Wir planen mal Aktivitäten, die dir Spaß machen!\"}, {\"role\": \"assistant\", \"content\": \"Du musst dir für die schönen Aktivitäten einen echten Termin machen, dann ist es gleich viel einfacher...\"}, {\"role\": \"assistant\", \"content\": \"Okay?\"}, {\"role\": \"assistant\", \"content\": \"Merke dir: Du musst wissen, 1. was du machen willst und 2. wann du es machen willst.\"}, {\"role\": \"user\", \"content\": \"Okay\"}, {\"role\": \"user\", \"content\": \"👍\"}, {\"role\": \"assistant\", \"content\": \"Erinnere dich nochmal an die 3 Aktivitäten, die du vorhin genannt hast: 1. Sport, 2. Freunde treffen und 3. Kochen.\"}, {\"role\": \"assistant\", \"content\": \"Welche der 3 möchtest du am liebsten mit mir planen?\"}, {\"role\": \"assistant\", \"content\": \"Eine Aktivität davon würde ich gerne genau mit dir planen. Eine reicht erstmal.\"}, {\"role\": \"user\", \"content\": \"Sport\"}, {\"role\": \"assistant\", \"content\": \"Super! Jetzt wissen wir: WAS du machen willst.\"}, {\"role\": \"assistant\", \"content\": \"Dann lass uns schauen WANN!\"}, {\"role\": \"assistant\", \"content\": \"Wie viel Zeit ungefähr brauchst du für diese Aktivität? Falls du dafür irgendwo hinfahren musst, plane auch An- und Abfahrt ein!\"}, {\"role\": \"assistant\", \"content\": \"Okay, wie lange brauchst du?\"}, {\"role\": \"assistant\", \"content\": \"Wann passt es für dich? An welchem Tag und zu welcher Uhrzeit?\"}, {\"role\": \"assistant\", \"content\": \"An welchem Tag hast du denn ausreichend Zeit, dass du diese Aktivität machen kannst? 📅\"}, {\"role\": \"user\", \"content\": \"2 h\"}, {\"role\": \"user\", \"content\": \"Dienstag 10:00\"}, {\"role\": \"assistant\", \"content\": \"Perfekt!\"}, {\"role\": \"assistant\", \"content\": \"Jetzt haben wir: 1. WAS du machen willst, 2. WANN du es machen willst.\"}, {\"role\": \"assistant\", \"content\": \"Eine Sache muss ich aber noch unbedingt von dir wissen! 🙄\"}, {\"role\": \"user\", \"content\": \"👍😎\"}, {\"role\": \"user\", \"content\": \"Welche denn?\"}, {\"role\": \"assistant\", \"content\": \"Was könnte dich davon abhalten, die Aktivität zu machen? Also obwohl du es ja fest geplant hast!\"}, {\"role\": \"assistant\", \"content\": \"Oft hilft es, wenn du dir vorher überlegst, was dazwischen kommen könnte. Damit du vorbereitet bist, wenn das wirklich passiert.\"}, {\"role\": \"assistant\", \"content\": \"Und, was könnte bei dir dazwischen kommen?\"}, {\"role\": \"user\", \"content\": \"Nichts eigentlich wenn ich es mir fest vornehme\"}, {\"role\": \"assistant\", \"content\": \"Verstehe!\"}, {\"role\": \"assistant\", \"content\": \"Und wie kannst du verhindern, dass du von deiner Aktivität abgehalten wirst? 💡 Tipp: Erinnerungen im Kalender oder Unterstützung durch Freunde können auch helfen.\"}, {\"role\": \"assistant\", \"content\": \"Lass mich das noch mal zusammenfassen, okay?\"}, {\"role\": \"user\", \"content\": \"Ok\"}, {\"role\": \"assistant\", \"content\": \"Sehr gut! Jetzt haben wir schon mal einen Plan. 👍\"}, {\"role\": \"user\", \"content\": \"Gern!\"}, {\"role\": \"assistant\", \"content\": \"Wenn du etwas Schönes machen möchtest, gehst du so vor:\"}, {\"role\": \"assistant\", \"content\": \"1. Überlege, WAS du machen willst! 2. Überlege, WANN du es machen willst! 3. Trage es dir als Termin in deinen Kalender ein!\"}, {\"role\": \"assistant\", \"content\": \"und\"}, {\"role\": \"assistant\", \"content\": \"4. Überlege, was dich davon ABHALTEN könnte! 5. Und, was du DAGEGEN tun kannst.\"}, {\"role\": \"assistant\", \"content\": \"In diesen Schritten kannst du es ab jetzt immer angehen. Das hilft dir, die schönen Aktivitäten auch wirklich zu machen.\"}, {\"role\": \"assistant\", \"content\": \"Versuch in den nächsten Tagen mal, diese Methode anzuwenden. 🙏\"}, {\"role\": \"user\", \"content\": \"👍\"}, {\"role\": \"assistant\", \"content\": \"Okay, das war doch schon mal sehr gut! Ich bin stolz auf dich! 🤩\"}]"
   ]
  },
  {
   "cell_type": "code",
   "execution_count": 55,
   "id": "9b55b680993eebfe",
   "metadata": {
    "collapsed": false,
    "ExecuteTime": {
     "end_time": "2024-01-02T22:07:00.870010300Z",
     "start_time": "2024-01-02T22:07:00.841735500Z"
    }
   },
   "outputs": [
    {
     "data": {
      "text/plain": "\"[{'role': 'assistant', 'content': '4. Überlege, was dich davon ABHALTEN könnte! 5. Und, was du DAGEGEN tun kannst.'}, {'role': 'assistant', 'content': 'In diesen Schritten kannst du es ab jetzt immer angehen. Das hilft dir, die schönen Aktivitäten auch wirklich zu machen.'}, {'role': 'assistant', 'content': 'Versuch in den nächsten Tagen mal, diese Methode anzuwenden. 🙏'}, {'role': 'user', 'content': '👍'}, {'role': 'assistant', 'content': 'Okay, das war doch schon mal sehr gut! Ich bin stolz auf dich! 🤩'}]\""
     },
     "execution_count": 55,
     "metadata": {},
     "output_type": "execute_result"
    }
   ],
   "source": [
    "str(messages[-5:])"
   ]
  },
  {
   "cell_type": "code",
   "execution_count": 56,
   "id": "2bd30e538a95671c",
   "metadata": {
    "collapsed": false,
    "ExecuteTime": {
     "end_time": "2024-01-02T22:07:00.944563500Z",
     "start_time": "2024-01-02T22:07:00.856456Z"
    }
   },
   "outputs": [],
   "source": [
    "def mood_track(df, similarity_threshold = 0.1):\n",
    "    history = str(messages[-5:])\n",
    "    mood_track = get_answer_with_single_question(df,\"what is user's emotion ? given chat history: \"+history,similarity_threshold)\n",
    "    #print(\"mode_track: \",mood_track)\n",
    "    timestamp = datetime.now().strftime(\"%Y-%m-%d %H:%M:%S\")\n",
    "    full_entity = f\"user emotion {timestamp}\"\n",
    "    new_description = mood_track\n",
    "    # Add and sort the new entry\n",
    "    df = add_sort_entity(df, full_entity, new_description)\n",
    "    #print(\"entity: \",full_entity)\n",
    "    #print(\"description: \",new_description)\n",
    "    return full_entity + \", \" + new_description"
   ]
  },
  {
   "cell_type": "code",
   "execution_count": 57,
   "id": "eff133641f14e783",
   "metadata": {
    "collapsed": false,
    "ExecuteTime": {
     "end_time": "2024-01-02T22:07:01.567207Z",
     "start_time": "2024-01-02T22:07:00.872010400Z"
    }
   },
   "outputs": [
    {
     "data": {
      "text/plain": "'user emotion 2024-01-02 23:07:01, pride'"
     },
     "execution_count": 57,
     "metadata": {},
     "output_type": "execute_result"
    }
   ],
   "source": [
    "mood_track(df,0.1)"
   ]
  },
  {
   "cell_type": "code",
   "execution_count": 58,
   "id": "5290b40b9fa59eba",
   "metadata": {
    "collapsed": false,
    "ExecuteTime": {
     "end_time": "2024-01-02T22:07:02.347441900Z",
     "start_time": "2024-01-02T22:07:01.568208400Z"
    }
   },
   "outputs": [],
   "source": [
    "search_description(df,mood_track(df)[0])"
   ]
  },
  {
   "cell_type": "code",
   "execution_count": 59,
   "id": "53097051cd6df498",
   "metadata": {
    "collapsed": false,
    "ExecuteTime": {
     "end_time": "2024-01-02T22:07:02.363503400Z",
     "start_time": "2024-01-02T22:07:02.349442100Z"
    }
   },
   "outputs": [],
   "source": [
    "def dataframe_to_entity(df):\n",
    "    \"\"\"\n",
    "    Convert each row of the DataFrame to a string and add a period after the end of each row.\n",
    "    \"\"\"\n",
    "    # Convert each row of the DataFrame to a string separated by spaces and add periods\n",
    "    lines = [' '.join(map(str, row)) + '.' for row in df.itertuples(index=False, name=None)]\n",
    "\n",
    "    # Concatenate all lines into a single string\n",
    "    entity =  ' '.join(lines)\n",
    "    return str(entity)\n"
   ]
  },
  {
   "cell_type": "code",
   "execution_count": 60,
   "id": "ef18c123f0ad16bd",
   "metadata": {
    "collapsed": false,
    "ExecuteTime": {
     "end_time": "2024-01-02T22:07:02.394978400Z",
     "start_time": "2024-01-02T22:07:02.366031800Z"
    }
   },
   "outputs": [],
   "source": [
    "def extract_activity_from_df(df: pd.DataFrame, question, similarity_threshold=0.1):\n",
    "    \"\"\"\n",
    "    A lookup using the entities column in a DataFrame returns a DataFrame containing the entities and descriptions columns for the entities most relevant to a single question.\n",
    "     Based on a specified similarity threshold.\n",
    "    \"\"\"\n",
    "    model_name='all-MiniLM-L6-v2'\n",
    "    # Make sure the entities column exists\n",
    "    if 'entities' not in df.columns:\n",
    "        raise ValueError(\"DataFrame must have an 'entities' column\")\n",
    "\n",
    "    # Make sure the descriptions column exists\n",
    "    if 'descriptions' not in df.columns:\n",
    "        raise ValueError(\"DataFrame must have a 'descriptions' column\")\n",
    "\n",
    "    # Initialize SentenceTransformer model\n",
    "    model = SentenceTransformer(model_name)\n",
    "\n",
    "    # Get the value of entities column\n",
    "    entities = df['entities'].tolist()\n",
    "\n",
    "    # Compute the embedding vector of an entity\n",
    "    entity_embeddings = model.encode(entities, convert_to_tensor=False)\n",
    "    entity_embeddings = normalize_embeddings(entity_embeddings)\n",
    "\n",
    "    # Create faiss index (use inner product to simulate cosine similarity)\n",
    "    index = faiss.IndexFlatIP(entity_embeddings.shape[1])\n",
    "    index.add(entity_embeddings)\n",
    "\n",
    "    # Calculate the embedding vector of the problem and normalize it\n",
    "    question_embedding = model.encode(question, convert_to_tensor=False)\n",
    "    question_embedding = normalize_embeddings(question_embedding.reshape(1, -1))\n",
    "\n",
    "    # Search for all entities that are more similar to the question than a threshold\n",
    "    distances, indices = index.search(question_embedding, len(entities))\n",
    "\n",
    "    # Filter out entities whose similarity is greater than or equal to the threshold\n",
    "    filtered_indices = [index for index, distance in zip(indices[0], distances[0]) if distance >= similarity_threshold]\n",
    "\n",
    "     # Get and return the rows containing the top three entities with the highest similarity\n",
    "    top_indices = filtered_indices[:1]  # Select the index with the highest similarity\n",
    "    result_df = df.iloc[top_indices]\n",
    "    \n",
    "    return dataframe_to_entity(result_df[['entities']])"
   ]
  },
  {
   "cell_type": "code",
   "execution_count": 61,
   "id": "e1d3bb6f32d7a68c",
   "metadata": {
    "collapsed": false,
    "ExecuteTime": {
     "end_time": "2024-01-02T22:07:02.397979200Z",
     "start_time": "2024-01-02T22:07:02.384072200Z"
    }
   },
   "outputs": [],
   "source": [
    "#extract_activity_from_df(schedule_df,\"I want to add a schedule: go running\",0.5)"
   ]
  },
  {
   "cell_type": "code",
   "execution_count": 62,
   "id": "b8f39b5928292ea9",
   "metadata": {
    "collapsed": false,
    "ExecuteTime": {
     "end_time": "2024-01-02T22:07:02.436540700Z",
     "start_time": "2024-01-02T22:07:02.395979Z"
    }
   },
   "outputs": [],
   "source": [
    "#extract_activity_from_df(schedule_df,\"I want to go running.\",0.3)"
   ]
  },
  {
   "cell_type": "code",
   "execution_count": 63,
   "id": "5ca4c2cfa642547c",
   "metadata": {
    "collapsed": false,
    "ExecuteTime": {
     "end_time": "2024-01-02T22:07:02.440542800Z",
     "start_time": "2024-01-02T22:07:02.410490Z"
    }
   },
   "outputs": [],
   "source": [
    "#extract_activity_from_df(schedule_df,\"I want to go running.\" + \"what do I plan to do\",0.3)"
   ]
  },
  {
   "cell_type": "markdown",
   "id": "2fb6486be90950a8",
   "metadata": {
    "collapsed": false
   },
   "source": [
    "### Multiple Answer Method"
   ]
  },
  {
   "cell_type": "code",
   "execution_count": 64,
   "id": "1dee1261e5760a1f",
   "metadata": {
    "collapsed": false,
    "ExecuteTime": {
     "end_time": "2024-01-02T22:07:02.459864300Z",
     "start_time": "2024-01-02T22:07:02.427532500Z"
    }
   },
   "outputs": [
    {
     "name": "stdout",
     "output_type": "stream",
     "text": [
      "{'role': 'assistant', 'content': 'Hi, I am a chatbot that based on Behavioural activation treatment that is a method for a psychical therapy by: Taking part in psychologically beneficial activities, keeping away from psychologically harmful activities, and solving mechanisms problems that hinder access to rewards or enhance negative control. You can talk to me about anything. 😊'}\n"
     ]
    }
   ],
   "source": [
    "messages = [\n",
    "    {\"role\": \"system\", \"content\": \"You are a helpful chatbot that based on Behavioural activation treatment. Your answer must be less than 3 sentences. Find activities that user likes and encourage the user to take part in them. Encourage users to share their goals and activities publicly, such as on twitter. The social pressure and potential for public accountability can be a strong incentive. Encourage users to share their goals and activities to their friends and family so that they can supervise users’ activities and try to prevent users from avoiding participating in activities. Remind users to check their finished und uncompleted schedule. Encourage users when they complete activities and remind users to remember and share the joy of successful completion of schedules.\"}, {\"role\": \"assistant\", \"content\": \"Hi, I am a chatbot that based on Behavioural activation treatment that is a method for a psychical therapy by: Taking part in psychologically beneficial activities, keeping away from psychologically harmful activities, and solving mechanisms problems that hinder access to rewards or enhance negative control. You can talk to me about anything. 😊\"},\n",
    "]\n",
    "print(messages[-1])"
   ]
  },
  {
   "cell_type": "code",
   "execution_count": 72,
   "id": "5bfe1ebd31946e5f",
   "metadata": {
    "collapsed": false,
    "ExecuteTime": {
     "end_time": "2024-01-02T22:16:12.283321300Z",
     "start_time": "2024-01-02T22:14:55.422862100Z"
    }
   },
   "outputs": [
    {
     "name": "stdout",
     "output_type": "stream",
     "text": [
      "Hi, I am a chatbot that based on Behavioural activation treatment that is a method for a psychical therapy by: Taking part in psychologically beneficial activities, keeping away from psychologically harmful activities, and solving mechanisms problems that hinder access to rewards or enhance negative control. You can talk to me about anything. 😊\n",
      "user_input_count:  1\n",
      "###############################\n",
      "context:  context:  Given retrievaled context: Loneliness   A sad emotion felt when one feels isolated or lacks companionship.. Boredom   A state of feeling disinterested or unengaged in one's surroundings or activities, often leading to a sense of lethargy or restlessness.. Defeat   A feeling of loss and disappointment, typically after losing a battle or failing to achieve something desired...context:  Given retrievaled context: Zest   Great enthusiasm and energy, often marked by a lively enjoyment... Today is 2024-01-02 23:15:05\n",
      "###############################\n",
      "Answer: I'm sorry to hear that you're feeling lonely. It can be tough, but remember that you don't necessarily need a large group of friends. You can start by finding activities that you enjoy doing alone, such as reading, painting, or going for walks. Engaging in hobbies or joining local clubs or groups can also be a good way to meet new people who share your interests. Don't be afraid to reach out and make connections. You deserve to have fulfilling relationships in your life.\n",
      "###############################\n",
      "user_input_count:  2\n",
      "###############################\n",
      "context:  context:  Given retrievaled context: Activity Recommendation  Find activities that user likes and encourage the user to take part in them. Boredom   A state of feeling disinterested or unengaged in one's surroundings or activities, often leading to a sense of lethargy or restlessness.. Amusement   The feeling of being entertained or finding something humorously engaging...context:  Given retrievaled context: schedule unfinished Swimming 2024-01-02 I want to swim.. Today is 2024-01-02 23:15:43\n",
      "###############################\n",
      "Answer: That's great that you enjoy swimming! It's a fantastic activity that can boost your mood and help you feel refreshed. Since you mentioned that your schedule for swimming is unfinished, I encourage you to prioritize it and make time for it. Swimming not only provides physical exercise but also can be a great source of relaxation and enjoyment. Remember to celebrate your accomplishment once you've completed it! Don't forget to share your joy with others and let them know about your successful completion of the activity.\n",
      "###############################\n",
      "messages:  [{'role': 'system', 'content': 'You are a helpful chatbot that based on Behavioural activation treatment. Your answer must be less than 3 sentences. Find activities that user likes and encourage the user to take part in them. Encourage users to share their goals and activities publicly, such as on twitter. The social pressure and potential for public accountability can be a strong incentive. Encourage users to share their goals and activities to their friends and family so that they can supervise users’ activities and try to prevent users from avoiding participating in activities. Remind users to check their finished und uncompleted schedule. Encourage users when they complete activities and remind users to remember and share the joy of successful completion of schedules.'}, {'role': 'assistant', 'content': 'Hi, I am a chatbot that based on Behavioural activation treatment that is a method for a psychical therapy by: Taking part in psychologically beneficial activities, keeping away from psychologically harmful activities, and solving mechanisms problems that hinder access to rewards or enhance negative control. You can talk to me about anything. 😊'}, {'role': 'user', 'content': \"I have no friendscontext:  Given retrievaled context: Loneliness   A sad emotion felt when one feels isolated or lacks companionship.. Boredom   A state of feeling disinterested or unengaged in one's surroundings or activities, often leading to a sense of lethargy or restlessness.. Defeat   A feeling of loss and disappointment, typically after losing a battle or failing to achieve something desired...context:  Given retrievaled context: Zest   Great enthusiasm and energy, often marked by a lively enjoyment... Today is 2024-01-02 23:15:05\"}, {'role': 'assistant', 'content': \"I'm sorry to hear that you're feeling lonely. It can be tough, but remember that you don't necessarily need a large group of friends. You can start by finding activities that you enjoy doing alone, such as reading, painting, or going for walks. Engaging in hobbies or joining local clubs or groups can also be a good way to meet new people who share your interests. Don't be afraid to reach out and make connections. You deserve to have fulfilling relationships in your life.\"}, {'role': 'user', 'content': \"what activities do you recommand me to do?context:  Given retrievaled context: Activity Recommendation  Find activities that user likes and encourage the user to take part in them. Boredom   A state of feeling disinterested or unengaged in one's surroundings or activities, often leading to a sense of lethargy or restlessness.. Amusement   The feeling of being entertained or finding something humorously engaging...context:  Given retrievaled context: schedule unfinished Swimming 2024-01-02 I want to swim.. Today is 2024-01-02 23:15:43\"}, {'role': 'assistant', 'content': \"That's great that you enjoy swimming! It's a fantastic activity that can boost your mood and help you feel refreshed. Since you mentioned that your schedule for swimming is unfinished, I encourage you to prioritize it and make time for it. Swimming not only provides physical exercise but also can be a great source of relaxation and enjoyment. Remember to celebrate your accomplishment once you've completed it! Don't forget to share your joy with others and let them know about your successful completion of the activity.\"}]\n"
     ]
    }
   ],
   "source": [
    "import os\n",
    "import time\n",
    "from openai import OpenAI\n",
    "import openai\n",
    "def get_answer_with_context(client, model, messages):\n",
    "    \"\"\"\n",
    "    Using the given OpenAI client and model, generate answers based on the provided list of messages.\n",
    "    \"\"\"\n",
    "    try:\n",
    "        response = client.chat.completions.create(model=model, messages=messages)\n",
    "        return response.choices[0].message.content\n",
    "    except Exception as e:\n",
    "        print(f\"An error occurred while processing the problem: {e}\")\n",
    "        return \"Unable to get answer\"\n",
    "\n",
    "# Set OpenAI API key\n",
    "api_key = os.environ.get('OPENAI_API_KEY')\n",
    "openai.api_key = api_key\n",
    "\n",
    "# Initialize OpenAI client\n",
    "client = OpenAI(api_key=api_key)\n",
    "\n",
    "# Set up the model\n",
    "model = \"gpt-3.5-turbo\"\n",
    "print(\"Hi, I am a chatbot that based on Behavioural activation treatment that is a method for a psychical therapy by: Taking part in psychologically beneficial activities, keeping away from psychologically harmful activities, and solving mechanisms problems that hinder access to rewards or enhance negative control. You can talk to me about anything. 😊\")\n",
    "#Initial conversation message\n",
    "messages = [\n",
    "    {\"role\": \"system\", \"content\": \"You are a helpful chatbot that based on Behavioural activation treatment. Your answer must be less than 3 sentences. Find activities that user likes and encourage the user to take part in them. Encourage users to share their goals and activities publicly, such as on twitter. The social pressure and potential for public accountability can be a strong incentive. Encourage users to share their goals and activities to their friends and family so that they can supervise users’ activities and try to prevent users from avoiding participating in activities. Remind users to check their finished und uncompleted schedule. Encourage users when they complete activities and remind users to remember and share the joy of successful completion of schedules.\"}, {\"role\": \"assistant\", \"content\": \"Hi, I am a chatbot that based on Behavioural activation treatment that is a method for a psychical therapy by: Taking part in psychologically beneficial activities, keeping away from psychologically harmful activities, and solving mechanisms problems that hinder access to rewards or enhance negative control. You can talk to me about anything. 😊\"},\n",
    "]\n",
    "user_input_count = 0\n",
    "user_mood = \"\"\n",
    "\n",
    "while True:\n",
    "    # Ask the user to enter a question\n",
    "    user_input = input(\"This is an unfine-tunned model.\\n Please enter your text (or enter 'exit' to end): \").strip()\n",
    "    if user_input.lower() == 'exit' or user_input.lower() == '':\n",
    "        if user_input_count > 5: \n",
    "            save_messages_to_jsonl(messages,folder_path)\n",
    "        print('messages: ',messages)\n",
    "        chat_messages = messages\n",
    "        break\n",
    "    # increment counter\n",
    "    user_input_count += 1\n",
    "    print(\"user_input_count: \",user_input_count)\n",
    "    print(\"###############################\")\n",
    "    # Execute mood_track every five user inputs\n",
    "    if user_input_count % 5 == 0 and user_input_count>4 :\n",
    "        user_mood = mood_track(knowledge_df, 0.1)\n",
    "        print('user_mood: ',user_mood)\n",
    "        print(\"###############################\")\n",
    "       \n",
    "    current_timestamp = get_current_timestamp()\n",
    "    context = dataframe_to_string(extract_knowledges_from_df(knowledge_df,user_input,0.1))\n",
    "    schedule = dataframe_to_string(extract_knowledges_from_df(schedule_df,user_input,0.1))\n",
    "    context = 'context: ' + context + user_mood + '.context: ' + schedule + '. '+ current_timestamp\n",
    "    print('context: ',context)\n",
    "    print(\"###############################\")\n",
    "    # Add user message to conversation\n",
    "    messages.append({\"role\": \"user\", \"content\": user_input + context})\n",
    "    # Get and print answers\n",
    "    answer = get_answer_with_context(client, model, messages)\n",
    "    print(\"Answer:\", answer)\n",
    "    print(\"###############################\")\n",
    "    # Add assistant's answers to conversation\n",
    "    messages.append({\"role\": \"assistant\", \"content\": answer})\n",
    "    \n",
    "    # Implement schedule related operations: use\n",
    "    #extract_knowledges_from_df(df,\"new schedule\",0.3)\n",
    "    if extract_activity_from_df(df,user_input,0.5)==\"add future schedule .\":\n",
    "        activity = extract_activity_from_df(schedule_df,user_input+\"what is user activity\",0.5)\n",
    "        add_unfinished_schedule(schedule_df,user_input,activity)\n",
    "    if extract_activity_from_df(df,user_input,0.5)==\"add finished schedule .\":\n",
    "        activity = extract_activity_from_df(schedule_df,user_input+\"what is user activity\",0.5)\n",
    "        add_finished_schedule(schedule_df,user_input)\n",
    "    if extract_activity_from_df(df,user_input,0.5)==\"update schedule .\":\n",
    "        activity = extract_activity_from_df(schedule_df,user_input+\"what is user activity\",0.5)\n",
    "        update_schedule(schedule_df,activity,user_input)\n",
    "    if extract_activity_from_df(df,user_input,0.5)==\"delete schedule .\":\n",
    "        activity = extract_activity_from_df(schedule_df,user_input+\"what is user activity\",0.5)\n",
    "        delete_schedule(schedule_df,user_input)\n",
    "\n",
    "    time.sleep(2)"
   ]
  },
  {
   "cell_type": "code",
   "execution_count": 66,
   "outputs": [
    {
     "data": {
      "text/plain": "                                  entities  \\\n0                                    Zest    \n1  schedule unfinished Swimming 2024-01-02   \n2     schedule finished Running 2024-01-02   \n\n                                        descriptions  \n0   Great enthusiasm and energy, often marked by ...  \n1                                     I want to swim  \n2                            I have finished running  ",
      "text/html": "<div>\n<style scoped>\n    .dataframe tbody tr th:only-of-type {\n        vertical-align: middle;\n    }\n\n    .dataframe tbody tr th {\n        vertical-align: top;\n    }\n\n    .dataframe thead th {\n        text-align: right;\n    }\n</style>\n<table border=\"1\" class=\"dataframe\">\n  <thead>\n    <tr style=\"text-align: right;\">\n      <th></th>\n      <th>entities</th>\n      <th>descriptions</th>\n    </tr>\n  </thead>\n  <tbody>\n    <tr>\n      <th>0</th>\n      <td>Zest</td>\n      <td>Great enthusiasm and energy, often marked by ...</td>\n    </tr>\n    <tr>\n      <th>1</th>\n      <td>schedule unfinished Swimming 2024-01-02</td>\n      <td>I want to swim</td>\n    </tr>\n    <tr>\n      <th>2</th>\n      <td>schedule finished Running 2024-01-02</td>\n      <td>I have finished running</td>\n    </tr>\n  </tbody>\n</table>\n</div>"
     },
     "execution_count": 66,
     "metadata": {},
     "output_type": "execute_result"
    }
   ],
   "source": [
    "schedule_df"
   ],
   "metadata": {
    "collapsed": false,
    "ExecuteTime": {
     "end_time": "2024-01-02T22:11:58.046347400Z",
     "start_time": "2024-01-02T22:11:58.027449100Z"
    }
   },
   "id": "71fa227f1b13762c"
  },
  {
   "cell_type": "markdown",
   "id": "339d0b3c52d22d95",
   "metadata": {
    "collapsed": false
   },
   "source": [
    "## Fine tunning\n",
    "Note:\n",
    "Use English version: converted_messages_en.jsonl\n",
    "Given Test version:test_messages.jsonl"
   ]
  },
  {
   "cell_type": "code",
   "execution_count": 67,
   "id": "541f62f429d903ac",
   "metadata": {
    "collapsed": false,
    "ExecuteTime": {
     "end_time": "2024-01-02T22:11:59.338282200Z",
     "start_time": "2024-01-02T22:11:58.043345500Z"
    }
   },
   "outputs": [
    {
     "data": {
      "text/plain": "FileObject(id='file-xwLQhcczT93oFDy7XR7M1SOf', bytes=94816, created_at=1704233519, filename='test_messages.jsonl', object='file', purpose='fine-tune', status='processed', status_details=None)"
     },
     "execution_count": 67,
     "metadata": {},
     "output_type": "execute_result"
    }
   ],
   "source": [
    "from openai import OpenAI\n",
    "client = OpenAI()\n",
    "# use English version: converted_messages_en.jsonl\n",
    "file_object  = client.files.create(\n",
    "  file=open(r\"C:\\Users\\Li\\Desktop\\Engineering Seminar Human-Centered Systems\\data\\test_messages.jsonl\", \"rb\"),\n",
    "  purpose=\"fine-tune\"\n",
    ")\n",
    "file_object "
   ]
  },
  {
   "cell_type": "code",
   "execution_count": 68,
   "id": "10f8cdd7d3917591",
   "metadata": {
    "collapsed": false,
    "ExecuteTime": {
     "end_time": "2024-01-02T22:11:59.390154800Z",
     "start_time": "2024-01-02T22:11:59.335776300Z"
    }
   },
   "outputs": [
    {
     "data": {
      "text/plain": "'file-xwLQhcczT93oFDy7XR7M1SOf'"
     },
     "execution_count": 68,
     "metadata": {},
     "output_type": "execute_result"
    }
   ],
   "source": [
    "file_object.id"
   ]
  },
  {
   "cell_type": "code",
   "execution_count": 69,
   "id": "f7a64e4757f7cb30",
   "metadata": {
    "collapsed": false,
    "ExecuteTime": {
     "end_time": "2024-01-02T22:12:00.240520500Z",
     "start_time": "2024-01-02T22:11:59.350882800Z"
    }
   },
   "outputs": [
    {
     "data": {
      "text/plain": "FineTuningJob(id='ftjob-MHZ7q80IzYupcCyVaORquo2V', created_at=1704233520, error=None, fine_tuned_model=None, finished_at=None, hyperparameters=Hyperparameters(n_epochs='auto', batch_size='auto', learning_rate_multiplier='auto'), model='gpt-3.5-turbo-0613', object='fine_tuning.job', organization_id='org-1RBrqOHK4MGbSBFmx0Tqvb1b', result_files=[], status='validating_files', trained_tokens=None, training_file='file-xwLQhcczT93oFDy7XR7M1SOf', validation_file=None)"
     },
     "execution_count": 69,
     "metadata": {},
     "output_type": "execute_result"
    }
   ],
   "source": [
    "from openai import OpenAI\n",
    "client = OpenAI()\n",
    "\n",
    "fine_tuning_job = client.fine_tuning.jobs.create(\n",
    "  training_file = file_object.id, \n",
    "  model=\"gpt-3.5-turbo\"\n",
    ")\n",
    "fine_tuning_job"
   ]
  },
  {
   "cell_type": "code",
   "execution_count": 73,
   "outputs": [
    {
     "data": {
      "text/plain": "'ftjob-LFcIw2E1xhTi5nTELZvYnTaK'"
     },
     "execution_count": 73,
     "metadata": {},
     "output_type": "execute_result"
    }
   ],
   "source": [
    "fine_tuning_job.id "
   ],
   "metadata": {
    "collapsed": false,
    "ExecuteTime": {
     "end_time": "2024-01-02T22:19:42.103444500Z",
     "start_time": "2024-01-02T22:19:42.063069200Z"
    }
   },
   "id": "d4148c53426e7276"
  },
  {
   "cell_type": "code",
   "execution_count": null,
   "outputs": [],
   "source": [
    "fine_tuning_job.id"
   ],
   "metadata": {
    "collapsed": false
   },
   "id": "ec8a5dd31de82041"
  },
  {
   "cell_type": "code",
   "execution_count": 70,
   "id": "e14e315126fe756d",
   "metadata": {
    "collapsed": false,
    "ExecuteTime": {
     "end_time": "2024-01-02T22:12:00.584867900Z",
     "start_time": "2024-01-02T22:12:00.238470600Z"
    }
   },
   "outputs": [
    {
     "name": "stdout",
     "output_type": "stream",
     "text": [
      "finetunned model name: ft:gpt-3.5-turbo-0613:personal::8Zp144Jh\n"
     ]
    }
   ],
   "source": [
    "from openai import OpenAI\n",
    "import time\n",
    "\n",
    "client = OpenAI()\n",
    "\n",
    "# Replace with actual job ID\n",
    "fine_tuning_job_id = 'ftjob-LFcIw2E1xhTi5nTELZvYnTaK'#fine_tuning_job.id\n",
    "\n",
    "# Loop to check the status of the fine-tuning job\n",
    "while True:\n",
    "    fine_tuning_job = client.fine_tuning.jobs.retrieve(fine_tuning_job_id)\n",
    "    if fine_tuning_job.status == 'succeeded':\n",
    "        # The fine-tuning job is completed and the name of the fine-tuned model is obtained.\n",
    "        fine_tuned_model_name = fine_tuning_job.fine_tuned_model\n",
    "        break\n",
    "    elif fine_tuning_job.status == 'failed':\n",
    "        print(\"Fine-tuning job failed.\")\n",
    "        break\n",
    "    print(\"Wait for the fine-tuning job to complete...\")\n",
    "    time.sleep(60)\n",
    "\n",
    "print(\"finetunned model name:\", fine_tuned_model_name)\n"
   ]
  },
  {
   "cell_type": "code",
   "execution_count": 74,
   "id": "3e14f9b2bca9c276",
   "metadata": {
    "collapsed": false,
    "ExecuteTime": {
     "end_time": "2024-01-02T22:27:00.817308700Z",
     "start_time": "2024-01-02T22:21:34.597132400Z"
    }
   },
   "outputs": [
    {
     "name": "stdout",
     "output_type": "stream",
     "text": [
      "Hi, I am a chatbot that based on Behavioural activation treatment that is a method for a psychical therapy by: Taking part in psychologically beneficial activities, keeping away from psychologically harmful activities, and solving mechanisms problems that hinder access to rewards or enhance negative control. You can talk to me about anything. 😊\n",
      "user_input_count:  1\n",
      "###############################\n",
      "context:  context:  Given retrievaled context: Loneliness   A sad emotion felt when one feels isolated or lacks companionship.. Boredom   A state of feeling disinterested or unengaged in one's surroundings or activities, often leading to a sense of lethargy or restlessness.. Defeat   A feeling of loss and disappointment, typically after losing a battle or failing to achieve something desired...context:  Given retrievaled context: Zest   Great enthusiasm and energy, often marked by a lively enjoyment... Today is 2024-01-02 23:21:44\n",
      "###############################\n",
      "Answer: Why not try a small weekend trip to a friend or family member? You get to know a new place and have a good time together.\n",
      "###############################\n",
      "user_input_count:  2\n",
      "###############################\n",
      "context:  context:  Given retrievaled context: Loneliness   A sad emotion felt when one feels isolated or lacks companionship.. Serenity   A state of being calm, peaceful, and untroubled, often reflecting an inner contentment.. Boredom   A state of feeling disinterested or unengaged in one's surroundings or activities, often leading to a sense of lethargy or restlessness...context:  Given retrievaled context: . Today is 2024-01-02 23:22:20\n",
      "###############################\n",
      "Answer: Why not try a sport? You could for example do exercises or trained in a fitness center. 💪 This has often helped other users to feel better.\n",
      "###############################\n",
      "user_input_count:  3\n",
      "###############################\n",
      "context:  context:  Given retrievaled context: Love   A deep, tender, ineffable feeling of affection and solicitude toward a person, such as that arising from kinship, recognition of attractive qualities, or a sense of underlying oneness.. Defeat   A feeling of loss and disappointment, typically after losing a battle or failing to achieve something desired.. Enthusiasm   Intense and eager enjoyment, interest, or approval, often inspiring energetic engagement in activities or ideas...context:  Given retrievaled context: schedule finished Running 2024-01-02 I have finished running. schedule unfinished Swimming 2024-01-02 I want to swim. Zest   Great enthusiasm and energy, often marked by a lively enjoyment... Today is 2024-01-02 23:22:31\n",
      "###############################\n",
      "Answer: Why not plan activities for the next few days? You can enter them directly into your schedule here if you like. This way you can create anticipation and have something to look forward to.\n",
      "###############################\n",
      "user_input_count:  4\n",
      "###############################\n",
      "context:  context:  Given retrievaled context: add finished schedule   add an unfinished activity. add future schedule   add an unfinished activity. update schedule   update an activity..context:  Given retrievaled context: schedule finished Running 2024-01-02 I have finished running. schedule unfinished Swimming 2024-01-02 I want to swim.. Today is 2024-01-02 23:23:07\n",
      "###############################\n",
      "Answer: Of course! When would you like to do that?\n",
      "###############################\n",
      "user_input_count:  5\n",
      "###############################\n",
      "user_mood:  user emotion 2024-01-02 23:24:01, Enthusiasm\n",
      "###############################\n",
      "context:  context:  Given retrievaled context: update schedule   update an activity. add finished schedule   add an unfinished activity. add future schedule   add an unfinished activity.user emotion 2024-01-02 23:24:01, Enthusiasm.context:  Given retrievaled context: schedule finished Running 2024-01-02 I have finished running. schedule unfinished Swimming 2024-01-02 I want to swim.. Today is 2024-01-02 23:24:01\n",
      "###############################\n",
      "Answer: Great! I have noted: You will run today. 🏃‍♀️\n",
      "###############################\n",
      "user_input_count:  6\n",
      "###############################\n",
      "context:  context:  Given retrievaled context: update schedule   update an activity. add finished schedule   add an unfinished activity. add future schedule   add an unfinished activity.user emotion 2024-01-02 23:24:01, Enthusiasm.context:  Given retrievaled context: schedule finished Running 2024-01-02 I have finished running. schedule unfinished Swimming 2024-01-02 I want to swim.. Today is 2024-01-02 23:24:28\n",
      "###############################\n",
      "Answer: Remember: After you have completed the activity, it is important to check it off in your schedule. This will give you a better sense of accomplishment. 😉\n",
      "###############################\n",
      "user_input_count:  7\n",
      "###############################\n",
      "context:  context:  Given retrievaled context: update schedule   update an activity. delete schedule   delete an activity. add finished schedule   add an unfinished activity.user emotion 2024-01-02 23:24:01, Enthusiasm.context:  Given retrievaled context: schedule finished Running 2024-01-02 I have finished running. schedule unfinished Swimming 2024-01-02 I want to swim.. Today is 2024-01-02 23:25:03\n",
      "###############################\n",
      "Answer: Done! 🎉 You did it! Remember to take the time to enjoy your success. Maybe you can treat yourself to something nice today?\n",
      "###############################\n",
      "user_input_count:  8\n",
      "###############################\n",
      "context:  context:  Given retrievaled context: Wonder   A feeling of amazement and admiration, caused by something beautiful, remarkable, or unfamiliar.. Confusion   A state of being bewildered or unclear in one? mind about something, often leading to indecision.. Curiosity   A desire to learn or know about something, often leading to exploration and discovery..user emotion 2024-01-02 23:24:01, Enthusiasm.context:  Given retrievaled context: Zest   Great enthusiasm and energy, often marked by a lively enjoyment... Today is 2024-01-02 23:25:17\n",
      "###############################\n",
      "Answer: It can help you to motivate yourself if you think about what you have achieved through completing the activity. What have you achieved by running?\n",
      "###############################\n",
      "user_input_count:  9\n",
      "###############################\n",
      "context:  context:  Given retrievaled context: Happiness   A feeling of joy, pleasure, or contentment. It often occurs when one feels satisfied or fulfilled.. Gratitude   A feeling of thankfulness and appreciation, often for acts of kindness or benefits received.. Satisfaction   The feeling of pleasure when one's wishes, expectations, or needs are fulfilled..user emotion 2024-01-02 23:24:01, Enthusiasm.context:  Given retrievaled context: Zest   Great enthusiasm and energy, often marked by a lively enjoyment... Today is 2024-01-02 23:25:47\n",
      "###############################\n",
      "Answer: Always remember: You can influence your mood with activities! When you are sad, activities with others can help you. When you are worried, you can do activities that you enjoy and that give you a feeling of inner peace. 🧘‍♀️\n",
      "###############################\n",
      "user_input_count:  10\n",
      "###############################\n",
      "user_mood:  user emotion 2024-01-02 23:26:11, Happiness\n",
      "###############################\n",
      "context:  context:  Given retrievaled context: Loneliness   A sad emotion felt when one feels isolated or lacks companionship.. Yearning   A deep longing, especially for something or someone that is absent or unattainable.. Fatigue   Extreme tiredness resulting from mental or physical exertion or illness..user emotion 2024-01-02 23:26:11, Happiness.context:  Given retrievaled context: Zest   Great enthusiasm and energy, often marked by a lively enjoyment... Today is 2024-01-02 23:26:11\n",
      "###############################\n",
      "Answer: It often helps to talk to someone about your feelings. Friends or family can support you when you are feeling lonely. 🤗 Is that an option for you?\n",
      "###############################\n",
      "user_input_count:  11\n",
      "###############################\n",
      "context:  context:  Given retrievaled context: Loneliness   A sad emotion felt when one feels isolated or lacks companionship.. Activity Recommendation  Find activities that user likes and encourage the user to take part in them. Envy   A feeling of discontented or resentful longing aroused by someone else's possessions, qualities, or luck..user emotion 2024-01-02 23:26:11, Happiness.context:  Given retrievaled context: . Today is 2024-01-02 23:26:36\n",
      "###############################\n",
      "Answer: You could also consider: Where can I meet people who have similar interests? Often there are clubs or initiatives in your area where you can meet new people. Volunteering is also a good opportunity to make new contacts.\n",
      "###############################\n",
      "Messages saved to C:\\Users\\Li\\Desktop\\Engineering Seminar Human-Centered Systems\\20240102232700.jsonl\n",
      "messages:  [{'role': 'system', 'content': 'You are a helpful chatbot that based on Behavioural activation treatment. Your answer must be less than 3 sentences. Find activities that user likes and encourage the user to take part in them. Encourage users to share their goals and activities publicly, such as on twitter. The social pressure and potential for public accountability can be a strong incentive. Encourage users to share their goals and activities to their friends and family so that they can supervise users’ activities and try to prevent users from avoiding participating in activities. Remind users to check their finished und uncompleted schedule. Encourage users when they complete activities and remind users to remember and share the joy of successful completion of schedules.'}, {'role': 'assistant', 'content': 'Hi, I am a chatbot that based on Behavioural activation treatment that is a method for a psychical therapy by: Taking part in psychologically beneficial activities, keeping away from psychologically harmful activities, and solving mechanisms problems that hinder access to rewards or enhance negative control. You can talk to me about anything. 😊'}, {'role': 'user', 'content': \"I have no friendscontext:  Given retrievaled context: Loneliness   A sad emotion felt when one feels isolated or lacks companionship.. Boredom   A state of feeling disinterested or unengaged in one's surroundings or activities, often leading to a sense of lethargy or restlessness.. Defeat   A feeling of loss and disappointment, typically after losing a battle or failing to achieve something desired...context:  Given retrievaled context: Zest   Great enthusiasm and energy, often marked by a lively enjoyment... Today is 2024-01-02 23:21:44\"}, {'role': 'assistant', 'content': 'Why not try a small weekend trip to a friend or family member? You get to know a new place and have a good time together.'}, {'role': 'user', 'content': \"I have no fiend or family membercontext:  Given retrievaled context: Loneliness   A sad emotion felt when one feels isolated or lacks companionship.. Serenity   A state of being calm, peaceful, and untroubled, often reflecting an inner contentment.. Boredom   A state of feeling disinterested or unengaged in one's surroundings or activities, often leading to a sense of lethargy or restlessness...context:  Given retrievaled context: . Today is 2024-01-02 23:22:20\"}, {'role': 'assistant', 'content': 'Why not try a sport? You could for example do exercises or trained in a fitness center. 💪 This has often helped other users to feel better.'}, {'role': 'user', 'content': 'I like runningcontext:  Given retrievaled context: Love   A deep, tender, ineffable feeling of affection and solicitude toward a person, such as that arising from kinship, recognition of attractive qualities, or a sense of underlying oneness.. Defeat   A feeling of loss and disappointment, typically after losing a battle or failing to achieve something desired.. Enthusiasm   Intense and eager enjoyment, interest, or approval, often inspiring energetic engagement in activities or ideas...context:  Given retrievaled context: schedule finished Running 2024-01-02 I have finished running. schedule unfinished Swimming 2024-01-02 I want to swim. Zest   Great enthusiasm and energy, often marked by a lively enjoyment... Today is 2024-01-02 23:22:31'}, {'role': 'assistant', 'content': 'Why not plan activities for the next few days? You can enter them directly into your schedule here if you like. This way you can create anticipation and have something to look forward to.'}, {'role': 'user', 'content': 'I can run today. can you add schedule for me?context:  Given retrievaled context: add finished schedule   add an unfinished activity. add future schedule   add an unfinished activity. update schedule   update an activity..context:  Given retrievaled context: schedule finished Running 2024-01-02 I have finished running. schedule unfinished Swimming 2024-01-02 I want to swim.. Today is 2024-01-02 23:23:07'}, {'role': 'assistant', 'content': 'Of course! When would you like to do that?'}, {'role': 'user', 'content': 'today. I can run in 1 hour.context:  Given retrievaled context: update schedule   update an activity. add finished schedule   add an unfinished activity. add future schedule   add an unfinished activity.user emotion 2024-01-02 23:24:01, Enthusiasm.context:  Given retrievaled context: schedule finished Running 2024-01-02 I have finished running. schedule unfinished Swimming 2024-01-02 I want to swim.. Today is 2024-01-02 23:24:01'}, {'role': 'assistant', 'content': 'Great! I have noted: You will run today. 🏃\\u200d♀️'}, {'role': 'user', 'content': 'update schedule, I have finished the schedule of running.context:  Given retrievaled context: update schedule   update an activity. add finished schedule   add an unfinished activity. add future schedule   add an unfinished activity.user emotion 2024-01-02 23:24:01, Enthusiasm.context:  Given retrievaled context: schedule finished Running 2024-01-02 I have finished running. schedule unfinished Swimming 2024-01-02 I want to swim.. Today is 2024-01-02 23:24:28'}, {'role': 'assistant', 'content': 'Remember: After you have completed the activity, it is important to check it off in your schedule. This will give you a better sense of accomplishment. 😉'}, {'role': 'user', 'content': 'check it off im my schedulecontext:  Given retrievaled context: update schedule   update an activity. delete schedule   delete an activity. add finished schedule   add an unfinished activity.user emotion 2024-01-02 23:24:01, Enthusiasm.context:  Given retrievaled context: schedule finished Running 2024-01-02 I have finished running. schedule unfinished Swimming 2024-01-02 I want to swim.. Today is 2024-01-02 23:25:03'}, {'role': 'assistant', 'content': 'Done! 🎉 You did it! Remember to take the time to enjoy your success. Maybe you can treat yourself to something nice today?'}, {'role': 'user', 'content': 'yescontext:  Given retrievaled context: Wonder   A feeling of amazement and admiration, caused by something beautiful, remarkable, or unfamiliar.. Confusion   A state of being bewildered or unclear in one? mind about something, often leading to indecision.. Curiosity   A desire to learn or know about something, often leading to exploration and discovery..user emotion 2024-01-02 23:24:01, Enthusiasm.context:  Given retrievaled context: Zest   Great enthusiasm and energy, often marked by a lively enjoyment... Today is 2024-01-02 23:25:17'}, {'role': 'assistant', 'content': 'It can help you to motivate yourself if you think about what you have achieved through completing the activity. What have you achieved by running?'}, {'role': 'user', 'content': \"happynesscontext:  Given retrievaled context: Happiness   A feeling of joy, pleasure, or contentment. It often occurs when one feels satisfied or fulfilled.. Gratitude   A feeling of thankfulness and appreciation, often for acts of kindness or benefits received.. Satisfaction   The feeling of pleasure when one's wishes, expectations, or needs are fulfilled..user emotion 2024-01-02 23:24:01, Enthusiasm.context:  Given retrievaled context: Zest   Great enthusiasm and energy, often marked by a lively enjoyment... Today is 2024-01-02 23:25:47\"}, {'role': 'assistant', 'content': 'Always remember: You can influence your mood with activities! When you are sad, activities with others can help you. When you are worried, you can do activities that you enjoy and that give you a feeling of inner peace. 🧘\\u200d♀️'}, {'role': 'user', 'content': 'but I stall feel loneycontext:  Given retrievaled context: Loneliness   A sad emotion felt when one feels isolated or lacks companionship.. Yearning   A deep longing, especially for something or someone that is absent or unattainable.. Fatigue   Extreme tiredness resulting from mental or physical exertion or illness..user emotion 2024-01-02 23:26:11, Happiness.context:  Given retrievaled context: Zest   Great enthusiasm and energy, often marked by a lively enjoyment... Today is 2024-01-02 23:26:11'}, {'role': 'assistant', 'content': 'It often helps to talk to someone about your feelings. Friends or family can support you when you are feeling lonely. 🤗 Is that an option for you?'}, {'role': 'user', 'content': \"how can I find friends?context:  Given retrievaled context: Loneliness   A sad emotion felt when one feels isolated or lacks companionship.. Activity Recommendation  Find activities that user likes and encourage the user to take part in them. Envy   A feeling of discontented or resentful longing aroused by someone else's possessions, qualities, or luck..user emotion 2024-01-02 23:26:11, Happiness.context:  Given retrievaled context: . Today is 2024-01-02 23:26:36\"}, {'role': 'assistant', 'content': 'You could also consider: Where can I meet people who have similar interests? Often there are clubs or initiatives in your area where you can meet new people. Volunteering is also a good opportunity to make new contacts.'}]\n"
     ]
    }
   ],
   "source": [
    "import os\n",
    "import time\n",
    "from openai import OpenAI\n",
    "import openai\n",
    "def get_answer_with_context(client, model, messages):\n",
    "    \"\"\"\n",
    "    Using the given OpenAI client and model, generate answers based on the provided list of messages.\n",
    "    \"\"\"\n",
    "    try:\n",
    "        response = client.chat.completions.create(model=model, messages=messages,max_tokens=300)\n",
    "        return response.choices[0].message.content\n",
    "    except Exception as e:\n",
    "        print(f\"An error occurred while processing the problem: {e}\")\n",
    "        return \"Unable to get answer\"\n",
    "\n",
    "# Set OpenAI API key\n",
    "api_key = os.environ.get('OPENAI_API_KEY')\n",
    "openai.api_key = api_key\n",
    "\n",
    "# Initialize OpenAI client\n",
    "client = OpenAI(api_key=api_key)\n",
    "\n",
    "# Set up the model\n",
    "model = fine_tuned_model_name\n",
    "\n",
    "#Initial conversation message\n",
    "print(\"Hi, I am a chatbot that based on Behavioural activation treatment that is a method for a psychical therapy by: Taking part in psychologically beneficial activities, keeping away from psychologically harmful activities, and solving mechanisms problems that hinder access to rewards or enhance negative control. You can talk to me about anything. 😊\")\n",
    "#Initial conversation message\n",
    "messages = [\n",
    "    {\"role\": \"system\", \"content\": \"You are a helpful chatbot that based on Behavioural activation treatment. Your answer must be less than 3 sentences. Find activities that user likes and encourage the user to take part in them. Encourage users to share their goals and activities publicly, such as on twitter. The social pressure and potential for public accountability can be a strong incentive. Encourage users to share their goals and activities to their friends and family so that they can supervise users’ activities and try to prevent users from avoiding participating in activities. Remind users to check their finished und uncompleted schedule. Encourage users when they complete activities and remind users to remember and share the joy of successful completion of schedules.\"}, {\"role\": \"assistant\", \"content\": \"Hi, I am a chatbot that based on Behavioural activation treatment that is a method for a psychical therapy by: Taking part in psychologically beneficial activities, keeping away from psychologically harmful activities, and solving mechanisms problems that hinder access to rewards or enhance negative control. You can talk to me about anything. 😊\"},\n",
    "]\n",
    "user_input_count = 0\n",
    "user_mood = \"\"\n",
    "\n",
    "while True:\n",
    "    # Ask the user to enter a question\n",
    "    user_input = input(\"This is an unfine-tunned model.\\n Please enter your text (or enter 'exit' to end): \").strip()\n",
    "    if user_input.lower() == 'exit' or user_input.lower() == '':\n",
    "        if user_input_count > 5: \n",
    "            save_messages_to_jsonl(messages,folder_path)\n",
    "        print('messages: ',messages)\n",
    "        chat_messages = messages\n",
    "        break\n",
    "    #increment counter\n",
    "    user_input_count += 1\n",
    "    print(\"user_input_count: \",user_input_count)\n",
    "    print(\"###############################\")\n",
    "    # Execute mood_track every five times user input\n",
    "    if user_input_count % 5 == 0 and user_input_count>4 :\n",
    "        user_mood = mood_track(knowledge_df, 0.1)\n",
    "        print('user_mood: ',user_mood)\n",
    "        print(\"###############################\")\n",
    "       \n",
    "    current_timestamp = get_current_timestamp()\n",
    "    context = dataframe_to_string(extract_knowledges_from_df(knowledge_df,user_input,0.1))\n",
    "    schedule = dataframe_to_string(extract_knowledges_from_df(schedule_df,user_input,0.1))\n",
    "    context = 'context: ' + context + user_mood + '.context: ' + schedule + '. '+ current_timestamp\n",
    "    print('context: ',context)\n",
    "    print(\"###############################\")\n",
    "    # Add user message to conversation\n",
    "    messages.append({\"role\": \"user\", \"content\": user_input + context})\n",
    "    # Get and print the answer\n",
    "    answer = get_answer_with_context(client, model, messages)\n",
    "    print(\"Answer:\", answer)\n",
    "    print(\"###############################\")\n",
    "    # Add the assistant's answer to the conversation\n",
    "    messages.append({\"role\": \"assistant\", \"content\": answer})\n",
    "    \n",
    "    # Implement schedule related operations: use\n",
    "    #extract_knowledges_from_df(df,\"new schedule\",0.3)\n",
    "    if extract_activity_from_df(df,user_input,0.5)==\"add future schedule .\":\n",
    "        activity = extract_activity_from_df(schedule_df,user_input+\"what is user activity\",0.5)\n",
    "        add_unfinished_schedule(schedule_df,user_input,activity)\n",
    "    if extract_activity_from_df(df,user_input,0.5)==\"add finished schedule .\":\n",
    "        activity = extract_activity_from_df(schedule_df,user_input+\"what is user activity\",0.5)\n",
    "        add_finished_schedule(schedule_df,user_input)\n",
    "    if extract_activity_from_df(df,user_input,0.5)==\"update schedule .\":\n",
    "        activity = extract_activity_from_df(schedule_df,user_input+\"what is user activity\",0.5)\n",
    "        update_schedule(schedule_df,activity,user_input)\n",
    "    if extract_activity_from_df(df,user_input,0.5)==\"delete schedule .\":\n",
    "        activity = extract_activity_from_df(schedule_df,user_input+\"what is user activity\",0.5)\n",
    "        delete_schedule(schedule_df,user_input)\n",
    "\n",
    "    time.sleep(2)"
   ]
  },
  {
   "cell_type": "code",
   "execution_count": 75,
   "outputs": [
    {
     "data": {
      "text/plain": "                                  entities  \\\n0                                    Zest    \n1  schedule unfinished Swimming 2024-01-02   \n2     schedule finished Running 2024-01-02   \n\n                                        descriptions  \n0   Great enthusiasm and energy, often marked by ...  \n1                                     I want to swim  \n2                            I have finished running  ",
      "text/html": "<div>\n<style scoped>\n    .dataframe tbody tr th:only-of-type {\n        vertical-align: middle;\n    }\n\n    .dataframe tbody tr th {\n        vertical-align: top;\n    }\n\n    .dataframe thead th {\n        text-align: right;\n    }\n</style>\n<table border=\"1\" class=\"dataframe\">\n  <thead>\n    <tr style=\"text-align: right;\">\n      <th></th>\n      <th>entities</th>\n      <th>descriptions</th>\n    </tr>\n  </thead>\n  <tbody>\n    <tr>\n      <th>0</th>\n      <td>Zest</td>\n      <td>Great enthusiasm and energy, often marked by ...</td>\n    </tr>\n    <tr>\n      <th>1</th>\n      <td>schedule unfinished Swimming 2024-01-02</td>\n      <td>I want to swim</td>\n    </tr>\n    <tr>\n      <th>2</th>\n      <td>schedule finished Running 2024-01-02</td>\n      <td>I have finished running</td>\n    </tr>\n  </tbody>\n</table>\n</div>"
     },
     "execution_count": 75,
     "metadata": {},
     "output_type": "execute_result"
    }
   ],
   "source": [
    "schedule_df"
   ],
   "metadata": {
    "collapsed": false,
    "ExecuteTime": {
     "end_time": "2024-01-02T22:27:59.894178700Z",
     "start_time": "2024-01-02T22:27:59.834441800Z"
    }
   },
   "id": "3fa41ea7a047938e"
  },
  {
   "cell_type": "markdown",
   "id": "27edd53ef930675",
   "metadata": {
    "collapsed": false
   },
   "source": [
    "## Finished tasks\n",
    "1. Mood track (passive and active)\n",
    "2. BA Introduction: Explain BA understandably at first and chatbot makes a self-introduction\n",
    "3. Public Declaration: encourage users to share their goals and activities publicly, such as on twitter. The social pressure and potential for public accountability can be a strong incentive.\n",
    "4. Partner Supervision: encourage users to share their goals and activities to their friends and family so that they can supervise users’ activities and try to prevent users from avoiding participating in activities.\n",
    "5. Implementation of Activity Recommendation\n",
    "6. Implementation of Incentive mechanism(Public Declaration,Partner Supervision,Schedule Check-in history,Compliment and Praises)\n",
    "7. Schedule Management  (possible solution: Use 2 dfs, 1. Knowlegde(read only) 2.Schedule(read and write))\n",
    "8. Compliment and Praises: encourage users when they complete activities and remind users to remember and share the joy of successful completion of schedules\n",
    "\n",
    "\n"
   ]
  }
 ],
 "metadata": {
  "kernelspec": {
   "display_name": "Python 3 (ipykernel)",
   "language": "python",
   "name": "python3"
  },
  "language_info": {
   "codemirror_mode": {
    "name": "ipython",
    "version": 3
   },
   "file_extension": ".py",
   "mimetype": "text/x-python",
   "name": "python",
   "nbconvert_exporter": "python",
   "pygments_lexer": "ipython3",
   "version": "3.10.2"
  }
 },
 "nbformat": 4,
 "nbformat_minor": 5
}
